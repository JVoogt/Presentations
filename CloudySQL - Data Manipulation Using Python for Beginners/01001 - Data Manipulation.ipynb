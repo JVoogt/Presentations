{
 "cells": [
  {
   "cell_type": "markdown",
   "metadata": {
    "slideshow": {
     "slide_type": "slide"
    }
   },
   "source": [
    "# Working with data in Python for Beginners  \n",
    "<img style=\"float: right; margin: 0px 15px 15px 0px;\" src=\"images\\Python.png\" alt=\"Python\" width=\"175\"/> \n",
    "\n",
    "# Introduction ##\n",
    "\n",
    "My Name is **Jean-Pierre Voogt**, but you can call me **JP**.\n",
    "```\n",
    "Twitter : JP.Voogt\n",
    "Email   : jvoogt1@gmail.com\n",
    "```\n",
    "\n",
    "I am a Data Analyst (Aspiring Data Scientist) for a Credit Bureau in South Africa. <img style=\"float: centre; margin: 0px 15px 15px 0px;\" src=\"images\\experian.jpg\" alt=\"Python\" width=\"400\"/> "
   ]
  },
  {
   "cell_type": "markdown",
   "metadata": {
    "slideshow": {
     "slide_type": "slide"
    }
   },
   "source": [
    "<img style=\"float: right; margin: 0px 15px 15px 0px;\" src=\"images\\JupyterNotebook.svg\" alt=\"Jupyter\" width=\"150\"/>\n",
    "\n",
    "## Jupyter Notebooks  \n",
    "\n",
    "### What is a Notebook\n",
    "\n",
    "\n",
    "Jupyter Notebook is an open-source web application that allows you to create and share documents that contain live code, equations, visualizations and narrative text.\n",
    "\n",
    "Source: https://jupyter.org/\n",
    "\n",
    "\n",
    "#### Tips and Tricks \n",
    "\n",
    "Source : https://www.dataquest.io/blog/jupyter-notebook-tips-tricks-shortcuts/\n",
    "\n",
    "```\n",
    "new cell below: command context + b\n",
    "delete cell: command context + dd\n",
    "all commands Ctrl + Shift + P\n",
    "```"
   ]
  },
  {
   "cell_type": "markdown",
   "metadata": {
    "slideshow": {
     "slide_type": "slide"
    }
   },
   "source": [
    "## LETS GET STARTED ##\n",
    "\n",
    "**Import all our required libaries**"
   ]
  },
  {
   "cell_type": "code",
   "execution_count": 1,
   "metadata": {
    "slideshow": {
     "slide_type": "fragment"
    }
   },
   "outputs": [],
   "source": [
    "%matplotlib inline\n",
    "\n",
    "import numpy as np\n",
    "import pandas as pd\n",
    "import matplotlib.pyplot as plt\n",
    "import seaborn as sns\n",
    "sns.set()\n",
    "\n",
    "pd.options.mode.chained_assignment = None"
   ]
  },
  {
   "cell_type": "markdown",
   "metadata": {
    "slideshow": {
     "slide_type": "fragment"
    }
   },
   "source": [
    "```\n",
    "Numpy: https://numpy.org/\n",
    "Pandas: https://pandas.pydata.org/\n",
    "PyPlot: https://matplotlib.org/users/pyplot_tutorial.html\n",
    "```"
   ]
  },
  {
   "cell_type": "markdown",
   "metadata": {
    "slideshow": {
     "slide_type": "slide"
    }
   },
   "source": [
    "**PANDAS DATAFRAMES**\n",
    "\n",
    "class pandas.DataFrame(data=None, index=None, columns=None, dtype=None, copy=False)[source]\n",
    "\n",
    "Two-dimensional size-mutable, potentially heterogeneous tabular data structure with labeled axes (rows and columns). Arithmetic operations align on both row and column labels. Can be thought of as a dict-like container for Series objects. The primary pandas data structure.\n",
    "```\n",
    "https://pandas.pydata.org/pandas-docs/stable/reference/api/pandas.DataFrame.html\n",
    "```"
   ]
  },
  {
   "cell_type": "markdown",
   "metadata": {
    "slideshow": {
     "slide_type": "slide"
    }
   },
   "source": [
    "### Manual Data\n",
    "\n",
    "Quick example of how to load random data into a Pandas dataframe"
   ]
  },
  {
   "cell_type": "code",
   "execution_count": 2,
   "metadata": {
    "slideshow": {
     "slide_type": "fragment"
    }
   },
   "outputs": [
    {
     "data": {
      "text/html": [
       "<div>\n",
       "<style scoped>\n",
       "    .dataframe tbody tr th:only-of-type {\n",
       "        vertical-align: middle;\n",
       "    }\n",
       "\n",
       "    .dataframe tbody tr th {\n",
       "        vertical-align: top;\n",
       "    }\n",
       "\n",
       "    .dataframe thead th {\n",
       "        text-align: right;\n",
       "    }\n",
       "</style>\n",
       "<table border=\"1\" class=\"dataframe\">\n",
       "  <thead>\n",
       "    <tr style=\"text-align: right;\">\n",
       "      <th></th>\n",
       "      <th>A</th>\n",
       "      <th>B</th>\n",
       "      <th>C</th>\n",
       "      <th>D</th>\n",
       "    </tr>\n",
       "  </thead>\n",
       "  <tbody>\n",
       "    <tr>\n",
       "      <th>2019-01-01</th>\n",
       "      <td>-0.717230</td>\n",
       "      <td>0.543521</td>\n",
       "      <td>0.494113</td>\n",
       "      <td>0.109403</td>\n",
       "    </tr>\n",
       "    <tr>\n",
       "      <th>2019-01-02</th>\n",
       "      <td>-1.224438</td>\n",
       "      <td>0.804841</td>\n",
       "      <td>0.656923</td>\n",
       "      <td>1.795099</td>\n",
       "    </tr>\n",
       "    <tr>\n",
       "      <th>2019-01-03</th>\n",
       "      <td>0.258670</td>\n",
       "      <td>-1.689429</td>\n",
       "      <td>-0.470582</td>\n",
       "      <td>0.841296</td>\n",
       "    </tr>\n",
       "    <tr>\n",
       "      <th>2019-01-04</th>\n",
       "      <td>-0.944651</td>\n",
       "      <td>-1.256427</td>\n",
       "      <td>1.025557</td>\n",
       "      <td>1.477962</td>\n",
       "    </tr>\n",
       "    <tr>\n",
       "      <th>2019-01-05</th>\n",
       "      <td>-0.614620</td>\n",
       "      <td>0.361125</td>\n",
       "      <td>-0.169424</td>\n",
       "      <td>-1.208409</td>\n",
       "    </tr>\n",
       "    <tr>\n",
       "      <th>2019-01-06</th>\n",
       "      <td>-1.293645</td>\n",
       "      <td>0.470590</td>\n",
       "      <td>0.588686</td>\n",
       "      <td>0.801604</td>\n",
       "    </tr>\n",
       "  </tbody>\n",
       "</table>\n",
       "</div>"
      ],
      "text/plain": [
       "                   A         B         C         D\n",
       "2019-01-01 -0.717230  0.543521  0.494113  0.109403\n",
       "2019-01-02 -1.224438  0.804841  0.656923  1.795099\n",
       "2019-01-03  0.258670 -1.689429 -0.470582  0.841296\n",
       "2019-01-04 -0.944651 -1.256427  1.025557  1.477962\n",
       "2019-01-05 -0.614620  0.361125 -0.169424 -1.208409\n",
       "2019-01-06 -1.293645  0.470590  0.588686  0.801604"
      ]
     },
     "execution_count": 2,
     "metadata": {},
     "output_type": "execute_result"
    }
   ],
   "source": [
    "dates = pd.date_range('20190101', periods=6, freq=\"D\" )\n",
    "df = pd.DataFrame(np.random.randn(6, 4), index=dates, columns=list('ABCD'))\n",
    "df"
   ]
  },
  {
   "cell_type": "markdown",
   "metadata": {
    "slideshow": {
     "slide_type": "fragment"
    }
   },
   "source": [
    "```\n",
    "date_range: https://pandas.pydata.org/pandas-docs/stable/reference/api/pandas.date_range.html\n",
    "DataFrame: https://pandas.pydata.org/pandas-docs/stable/reference/api/pandas.DataFrame.html\n",
    "Randn: https://docs.scipy.org/doc/numpy-1.13.0/reference/generated/numpy.random.randn.html\n",
    "```"
   ]
  },
  {
   "cell_type": "markdown",
   "metadata": {
    "slideshow": {
     "slide_type": "slide"
    }
   },
   "source": [
    "### Look for CSV files in our working Dir\n",
    "\n",
    "Below we query the OS in our working Directory to see what .csv files we have to work with"
   ]
  },
  {
   "cell_type": "code",
   "execution_count": 8,
   "metadata": {
    "scrolled": false,
    "slideshow": {
     "slide_type": "fragment"
    }
   },
   "outputs": [
    {
     "name": "stdout",
     "output_type": "stream",
     "text": [
      "['PGA_Data_Historical.csv']\n"
     ]
    }
   ],
   "source": [
    "import os\n",
    "items = os.listdir(\"data/.\")\n",
    "\n",
    "newlist = []\n",
    "for names in items:\n",
    "    if names.endswith(\".csv\"):\n",
    "        newlist.append(names)\n",
    "print(newlist)"
   ]
  },
  {
   "cell_type": "markdown",
   "metadata": {
    "slideshow": {
     "slide_type": "fragment"
    }
   },
   "source": [
    "Source: **Kaggle**\n",
    "\n",
    "**Unix Command** ls to also view the Directory structure"
   ]
  },
  {
   "cell_type": "code",
   "execution_count": null,
   "metadata": {
    "slideshow": {
     "slide_type": "fragment"
    }
   },
   "outputs": [],
   "source": [
    "%ls"
   ]
  },
  {
   "cell_type": "markdown",
   "metadata": {
    "slideshow": {
     "slide_type": "slide"
    }
   },
   "source": [
    "### Read CSV into Dataframe"
   ]
  },
  {
   "cell_type": "code",
   "execution_count": 9,
   "metadata": {
    "slideshow": {
     "slide_type": "fragment"
    }
   },
   "outputs": [],
   "source": [
    "dataframe = pd.read_csv(\"data/PGA_Data_Historical.csv\")#, sep = ',', decimal='.')"
   ]
  },
  {
   "cell_type": "markdown",
   "metadata": {
    "slideshow": {
     "slide_type": "fragment"
    }
   },
   "source": [
    "**Display**: Different ways to display the data in a notebook"
   ]
  },
  {
   "cell_type": "code",
   "execution_count": 10,
   "metadata": {
    "slideshow": {
     "slide_type": "fragment"
    }
   },
   "outputs": [
    {
     "name": "stdout",
     "output_type": "stream",
     "text": [
      "       Player Name  Season         Statistic                     Variable  \\\n",
      "0  Robert Garrigus    2010  Driving Distance  Driving Distance - (ROUNDS)   \n",
      "1     Bubba Watson    2010  Driving Distance  Driving Distance - (ROUNDS)   \n",
      "\n",
      "  Value  \n",
      "0    71  \n",
      "1    77  \n"
     ]
    }
   ],
   "source": [
    "print(dataframe.head(2))"
   ]
  },
  {
   "cell_type": "code",
   "execution_count": 9,
   "metadata": {
    "scrolled": true,
    "slideshow": {
     "slide_type": "fragment"
    }
   },
   "outputs": [
    {
     "data": {
      "text/html": [
       "<div>\n",
       "<style scoped>\n",
       "    .dataframe tbody tr th:only-of-type {\n",
       "        vertical-align: middle;\n",
       "    }\n",
       "\n",
       "    .dataframe tbody tr th {\n",
       "        vertical-align: top;\n",
       "    }\n",
       "\n",
       "    .dataframe thead th {\n",
       "        text-align: right;\n",
       "    }\n",
       "</style>\n",
       "<table border=\"1\" class=\"dataframe\">\n",
       "  <thead>\n",
       "    <tr style=\"text-align: right;\">\n",
       "      <th></th>\n",
       "      <th>Player Name</th>\n",
       "      <th>Season</th>\n",
       "      <th>Statistic</th>\n",
       "      <th>Variable</th>\n",
       "      <th>Value</th>\n",
       "    </tr>\n",
       "  </thead>\n",
       "  <tbody>\n",
       "    <tr>\n",
       "      <th>0</th>\n",
       "      <td>Robert Garrigus</td>\n",
       "      <td>2010</td>\n",
       "      <td>Driving Distance</td>\n",
       "      <td>Driving Distance - (ROUNDS)</td>\n",
       "      <td>71</td>\n",
       "    </tr>\n",
       "    <tr>\n",
       "      <th>1</th>\n",
       "      <td>Bubba Watson</td>\n",
       "      <td>2010</td>\n",
       "      <td>Driving Distance</td>\n",
       "      <td>Driving Distance - (ROUNDS)</td>\n",
       "      <td>77</td>\n",
       "    </tr>\n",
       "    <tr>\n",
       "      <th>2</th>\n",
       "      <td>Dustin Johnson</td>\n",
       "      <td>2010</td>\n",
       "      <td>Driving Distance</td>\n",
       "      <td>Driving Distance - (ROUNDS)</td>\n",
       "      <td>83</td>\n",
       "    </tr>\n",
       "  </tbody>\n",
       "</table>\n",
       "</div>"
      ],
      "text/plain": [
       "       Player Name  Season         Statistic                     Variable  \\\n",
       "0  Robert Garrigus    2010  Driving Distance  Driving Distance - (ROUNDS)   \n",
       "1     Bubba Watson    2010  Driving Distance  Driving Distance - (ROUNDS)   \n",
       "2   Dustin Johnson    2010  Driving Distance  Driving Distance - (ROUNDS)   \n",
       "\n",
       "  Value  \n",
       "0    71  \n",
       "1    77  \n",
       "2    83  "
      ]
     },
     "execution_count": 9,
     "metadata": {},
     "output_type": "execute_result"
    }
   ],
   "source": [
    "dataframe.head(3)"
   ]
  },
  {
   "cell_type": "markdown",
   "metadata": {
    "slideshow": {
     "slide_type": "slide"
    }
   },
   "source": [
    "## Viewing our data ##\n",
    "\n",
    "\n",
    "**Data shape rows and columns**"
   ]
  },
  {
   "cell_type": "code",
   "execution_count": 11,
   "metadata": {
    "slideshow": {
     "slide_type": "fragment"
    }
   },
   "outputs": [
    {
     "name": "stdout",
     "output_type": "stream",
     "text": [
      "(2740403, 5)\n"
     ]
    }
   ],
   "source": [
    "print(dataframe.shape)"
   ]
  },
  {
   "cell_type": "markdown",
   "metadata": {
    "slideshow": {
     "slide_type": "fragment"
    }
   },
   "source": [
    "**View first x records**\n",
    "\n",
    "head() and tail() originated from the Unix commands"
   ]
  },
  {
   "cell_type": "code",
   "execution_count": 13,
   "metadata": {
    "slideshow": {
     "slide_type": "fragment"
    }
   },
   "outputs": [
    {
     "data": {
      "text/html": [
       "<div>\n",
       "<style scoped>\n",
       "    .dataframe tbody tr th:only-of-type {\n",
       "        vertical-align: middle;\n",
       "    }\n",
       "\n",
       "    .dataframe tbody tr th {\n",
       "        vertical-align: top;\n",
       "    }\n",
       "\n",
       "    .dataframe thead th {\n",
       "        text-align: right;\n",
       "    }\n",
       "</style>\n",
       "<table border=\"1\" class=\"dataframe\">\n",
       "  <thead>\n",
       "    <tr style=\"text-align: right;\">\n",
       "      <th></th>\n",
       "      <th>Player Name</th>\n",
       "      <th>Season</th>\n",
       "      <th>Statistic</th>\n",
       "      <th>Variable</th>\n",
       "      <th>Value</th>\n",
       "    </tr>\n",
       "  </thead>\n",
       "  <tbody>\n",
       "    <tr>\n",
       "      <th>0</th>\n",
       "      <td>Robert Garrigus</td>\n",
       "      <td>2010</td>\n",
       "      <td>Driving Distance</td>\n",
       "      <td>Driving Distance - (ROUNDS)</td>\n",
       "      <td>71</td>\n",
       "    </tr>\n",
       "    <tr>\n",
       "      <th>1</th>\n",
       "      <td>Bubba Watson</td>\n",
       "      <td>2010</td>\n",
       "      <td>Driving Distance</td>\n",
       "      <td>Driving Distance - (ROUNDS)</td>\n",
       "      <td>77</td>\n",
       "    </tr>\n",
       "  </tbody>\n",
       "</table>\n",
       "</div>"
      ],
      "text/plain": [
       "       Player Name  Season         Statistic                     Variable  \\\n",
       "0  Robert Garrigus    2010  Driving Distance  Driving Distance - (ROUNDS)   \n",
       "1     Bubba Watson    2010  Driving Distance  Driving Distance - (ROUNDS)   \n",
       "\n",
       "  Value  \n",
       "0    71  \n",
       "1    77  "
      ]
     },
     "execution_count": 13,
     "metadata": {},
     "output_type": "execute_result"
    }
   ],
   "source": [
    "dataframe.head(2)"
   ]
  },
  {
   "cell_type": "markdown",
   "metadata": {
    "slideshow": {
     "slide_type": "slide"
    }
   },
   "source": [
    "**Display last 3 records**"
   ]
  },
  {
   "cell_type": "code",
   "execution_count": 14,
   "metadata": {
    "slideshow": {
     "slide_type": "fragment"
    }
   },
   "outputs": [
    {
     "data": {
      "text/html": [
       "<div>\n",
       "<style scoped>\n",
       "    .dataframe tbody tr th:only-of-type {\n",
       "        vertical-align: middle;\n",
       "    }\n",
       "\n",
       "    .dataframe tbody tr th {\n",
       "        vertical-align: top;\n",
       "    }\n",
       "\n",
       "    .dataframe thead th {\n",
       "        text-align: right;\n",
       "    }\n",
       "</style>\n",
       "<table border=\"1\" class=\"dataframe\">\n",
       "  <thead>\n",
       "    <tr style=\"text-align: right;\">\n",
       "      <th></th>\n",
       "      <th>Player Name</th>\n",
       "      <th>Season</th>\n",
       "      <th>Statistic</th>\n",
       "      <th>Variable</th>\n",
       "      <th>Value</th>\n",
       "    </tr>\n",
       "  </thead>\n",
       "  <tbody>\n",
       "    <tr>\n",
       "      <th>2740400</th>\n",
       "      <td>Andrew Yun</td>\n",
       "      <td>2018</td>\n",
       "      <td>Fairway Bunker Tendency</td>\n",
       "      <td>Fairway Bunker Tendency - (RELATIVE TO PAR)</td>\n",
       "      <td>+0.225</td>\n",
       "    </tr>\n",
       "    <tr>\n",
       "      <th>2740401</th>\n",
       "      <td>Nate Lashley</td>\n",
       "      <td>2018</td>\n",
       "      <td>Fairway Bunker Tendency</td>\n",
       "      <td>Fairway Bunker Tendency - (RELATIVE TO PAR)</td>\n",
       "      <td>+0.143</td>\n",
       "    </tr>\n",
       "    <tr>\n",
       "      <th>2740402</th>\n",
       "      <td>Martin Flores</td>\n",
       "      <td>2018</td>\n",
       "      <td>Fairway Bunker Tendency</td>\n",
       "      <td>Fairway Bunker Tendency - (RELATIVE TO PAR)</td>\n",
       "      <td>+0.181</td>\n",
       "    </tr>\n",
       "  </tbody>\n",
       "</table>\n",
       "</div>"
      ],
      "text/plain": [
       "           Player Name  Season                Statistic  \\\n",
       "2740400     Andrew Yun    2018  Fairway Bunker Tendency   \n",
       "2740401   Nate Lashley    2018  Fairway Bunker Tendency   \n",
       "2740402  Martin Flores    2018  Fairway Bunker Tendency   \n",
       "\n",
       "                                            Variable   Value  \n",
       "2740400  Fairway Bunker Tendency - (RELATIVE TO PAR)  +0.225  \n",
       "2740401  Fairway Bunker Tendency - (RELATIVE TO PAR)  +0.143  \n",
       "2740402  Fairway Bunker Tendency - (RELATIVE TO PAR)  +0.181  "
      ]
     },
     "execution_count": 14,
     "metadata": {},
     "output_type": "execute_result"
    }
   ],
   "source": [
    "dataframe.tail(3)"
   ]
  },
  {
   "cell_type": "markdown",
   "metadata": {
    "slideshow": {
     "slide_type": "slide"
    }
   },
   "source": [
    "**Display only selected columns**"
   ]
  },
  {
   "cell_type": "code",
   "execution_count": 15,
   "metadata": {
    "slideshow": {
     "slide_type": "fragment"
    }
   },
   "outputs": [
    {
     "data": {
      "text/plain": [
       "0    Robert Garrigus\n",
       "1       Bubba Watson\n",
       "2     Dustin Johnson\n",
       "3    Brett Wetterich\n",
       "4        J.B. Holmes\n",
       "Name: Player Name, dtype: object"
      ]
     },
     "execution_count": 15,
     "metadata": {},
     "output_type": "execute_result"
    }
   ],
   "source": [
    "# This will return a Series Object\n",
    "dataframe[\"Player Name\"].head(5)"
   ]
  },
  {
   "cell_type": "code",
   "execution_count": 16,
   "metadata": {
    "slideshow": {
     "slide_type": "fragment"
    }
   },
   "outputs": [
    {
     "data": {
      "text/html": [
       "<div>\n",
       "<style scoped>\n",
       "    .dataframe tbody tr th:only-of-type {\n",
       "        vertical-align: middle;\n",
       "    }\n",
       "\n",
       "    .dataframe tbody tr th {\n",
       "        vertical-align: top;\n",
       "    }\n",
       "\n",
       "    .dataframe thead th {\n",
       "        text-align: right;\n",
       "    }\n",
       "</style>\n",
       "<table border=\"1\" class=\"dataframe\">\n",
       "  <thead>\n",
       "    <tr style=\"text-align: right;\">\n",
       "      <th></th>\n",
       "      <th>Player Name</th>\n",
       "      <th>Season</th>\n",
       "    </tr>\n",
       "  </thead>\n",
       "  <tbody>\n",
       "    <tr>\n",
       "      <th>0</th>\n",
       "      <td>Robert Garrigus</td>\n",
       "      <td>2010</td>\n",
       "    </tr>\n",
       "    <tr>\n",
       "      <th>1</th>\n",
       "      <td>Bubba Watson</td>\n",
       "      <td>2010</td>\n",
       "    </tr>\n",
       "    <tr>\n",
       "      <th>2</th>\n",
       "      <td>Dustin Johnson</td>\n",
       "      <td>2010</td>\n",
       "    </tr>\n",
       "    <tr>\n",
       "      <th>3</th>\n",
       "      <td>Brett Wetterich</td>\n",
       "      <td>2010</td>\n",
       "    </tr>\n",
       "    <tr>\n",
       "      <th>4</th>\n",
       "      <td>J.B. Holmes</td>\n",
       "      <td>2010</td>\n",
       "    </tr>\n",
       "  </tbody>\n",
       "</table>\n",
       "</div>"
      ],
      "text/plain": [
       "       Player Name  Season\n",
       "0  Robert Garrigus    2010\n",
       "1     Bubba Watson    2010\n",
       "2   Dustin Johnson    2010\n",
       "3  Brett Wetterich    2010\n",
       "4      J.B. Holmes    2010"
      ]
     },
     "execution_count": 16,
     "metadata": {},
     "output_type": "execute_result"
    }
   ],
   "source": [
    "# This will return a Dataframe Object\n",
    "dataframe[[\"Player Name\",\"Season\"]].head()"
   ]
  },
  {
   "cell_type": "code",
   "execution_count": 5,
   "metadata": {
    "slideshow": {
     "slide_type": "fragment"
    }
   },
   "outputs": [
    {
     "data": {
      "text/plain": [
       "0    2010\n",
       "1    2010\n",
       "Name: Season, dtype: int64"
      ]
     },
     "execution_count": 5,
     "metadata": {},
     "output_type": "execute_result"
    }
   ],
   "source": [
    "# This will return a Series Object\n",
    "dataframe.Season.head(2)"
   ]
  },
  {
   "cell_type": "markdown",
   "metadata": {
    "slideshow": {
     "slide_type": "slide"
    }
   },
   "source": [
    "### META DATA ###"
   ]
  },
  {
   "cell_type": "code",
   "execution_count": 18,
   "metadata": {
    "slideshow": {
     "slide_type": "fragment"
    }
   },
   "outputs": [
    {
     "data": {
      "text/plain": [
       "Player Name    object\n",
       "Season          int64\n",
       "Statistic      object\n",
       "Variable       object\n",
       "Value          object\n",
       "dtype: object"
      ]
     },
     "execution_count": 18,
     "metadata": {},
     "output_type": "execute_result"
    }
   ],
   "source": [
    "dataframe.dtypes"
   ]
  },
  {
   "cell_type": "code",
   "execution_count": 11,
   "metadata": {
    "scrolled": true,
    "slideshow": {
     "slide_type": "fragment"
    }
   },
   "outputs": [
    {
     "data": {
      "text/plain": [
       "RangeIndex(start=0, stop=2740403, step=1)"
      ]
     },
     "execution_count": 11,
     "metadata": {},
     "output_type": "execute_result"
    }
   ],
   "source": [
    "dataframe.index"
   ]
  },
  {
   "cell_type": "code",
   "execution_count": 12,
   "metadata": {
    "slideshow": {
     "slide_type": "fragment"
    }
   },
   "outputs": [
    {
     "data": {
      "text/plain": [
       "Index(['Player Name', 'Season', 'Statistic', 'Variable', 'Value'], dtype='object')"
      ]
     },
     "execution_count": 12,
     "metadata": {},
     "output_type": "execute_result"
    }
   ],
   "source": [
    "dataframe.columns"
   ]
  },
  {
   "cell_type": "code",
   "execution_count": null,
   "metadata": {
    "slideshow": {
     "slide_type": "fragment"
    }
   },
   "outputs": [],
   "source": [
    "dataframe.values"
   ]
  },
  {
   "cell_type": "markdown",
   "metadata": {
    "slideshow": {
     "slide_type": "slide"
    }
   },
   "source": [
    "### Data Investigations and Transitions\n",
    "\n",
    "Lets take a look at what columns we have to work with in our dataset"
   ]
  },
  {
   "cell_type": "code",
   "execution_count": null,
   "metadata": {
    "slideshow": {
     "slide_type": "fragment"
    }
   },
   "outputs": [],
   "source": [
    "dataframe.describe()"
   ]
  },
  {
   "cell_type": "code",
   "execution_count": 22,
   "metadata": {
    "slideshow": {
     "slide_type": "fragment"
    }
   },
   "outputs": [
    {
     "data": {
      "text/html": [
       "<div>\n",
       "<style scoped>\n",
       "    .dataframe tbody tr th:only-of-type {\n",
       "        vertical-align: middle;\n",
       "    }\n",
       "\n",
       "    .dataframe tbody tr th {\n",
       "        vertical-align: top;\n",
       "    }\n",
       "\n",
       "    .dataframe thead th {\n",
       "        text-align: right;\n",
       "    }\n",
       "</style>\n",
       "<table border=\"1\" class=\"dataframe\">\n",
       "  <thead>\n",
       "    <tr style=\"text-align: right;\">\n",
       "      <th></th>\n",
       "      <th>0</th>\n",
       "      <th>1</th>\n",
       "      <th>2</th>\n",
       "      <th>3</th>\n",
       "      <th>4</th>\n",
       "      <th>5</th>\n",
       "      <th>6</th>\n",
       "      <th>7</th>\n",
       "      <th>8</th>\n",
       "      <th>9</th>\n",
       "      <th>...</th>\n",
       "      <th>2740393</th>\n",
       "      <th>2740394</th>\n",
       "      <th>2740395</th>\n",
       "      <th>2740396</th>\n",
       "      <th>2740397</th>\n",
       "      <th>2740398</th>\n",
       "      <th>2740399</th>\n",
       "      <th>2740400</th>\n",
       "      <th>2740401</th>\n",
       "      <th>2740402</th>\n",
       "    </tr>\n",
       "  </thead>\n",
       "  <tbody>\n",
       "    <tr>\n",
       "      <th>Player Name</th>\n",
       "      <td>Robert Garrigus</td>\n",
       "      <td>Bubba Watson</td>\n",
       "      <td>Dustin Johnson</td>\n",
       "      <td>Brett Wetterich</td>\n",
       "      <td>J.B. Holmes</td>\n",
       "      <td>John Daly</td>\n",
       "      <td>Graham DeLaet</td>\n",
       "      <td>Angel Cabrera</td>\n",
       "      <td>Charles Warren</td>\n",
       "      <td>D.J. Trahan</td>\n",
       "      <td>...</td>\n",
       "      <td>Michael Kim</td>\n",
       "      <td>Peter Malnati</td>\n",
       "      <td>Jason Day</td>\n",
       "      <td>Rory Sabbatini</td>\n",
       "      <td>Mackenzie Hughes</td>\n",
       "      <td>Ben Martin</td>\n",
       "      <td>Robert Streb</td>\n",
       "      <td>Andrew Yun</td>\n",
       "      <td>Nate Lashley</td>\n",
       "      <td>Martin Flores</td>\n",
       "    </tr>\n",
       "    <tr>\n",
       "      <th>Season</th>\n",
       "      <td>2010</td>\n",
       "      <td>2010</td>\n",
       "      <td>2010</td>\n",
       "      <td>2010</td>\n",
       "      <td>2010</td>\n",
       "      <td>2010</td>\n",
       "      <td>2010</td>\n",
       "      <td>2010</td>\n",
       "      <td>2010</td>\n",
       "      <td>2010</td>\n",
       "      <td>...</td>\n",
       "      <td>2018</td>\n",
       "      <td>2018</td>\n",
       "      <td>2018</td>\n",
       "      <td>2018</td>\n",
       "      <td>2018</td>\n",
       "      <td>2018</td>\n",
       "      <td>2018</td>\n",
       "      <td>2018</td>\n",
       "      <td>2018</td>\n",
       "      <td>2018</td>\n",
       "    </tr>\n",
       "    <tr>\n",
       "      <th>Statistic</th>\n",
       "      <td>Driving Distance</td>\n",
       "      <td>Driving Distance</td>\n",
       "      <td>Driving Distance</td>\n",
       "      <td>Driving Distance</td>\n",
       "      <td>Driving Distance</td>\n",
       "      <td>Driving Distance</td>\n",
       "      <td>Driving Distance</td>\n",
       "      <td>Driving Distance</td>\n",
       "      <td>Driving Distance</td>\n",
       "      <td>Driving Distance</td>\n",
       "      <td>...</td>\n",
       "      <td>Fairway Bunker Tendency</td>\n",
       "      <td>Fairway Bunker Tendency</td>\n",
       "      <td>Fairway Bunker Tendency</td>\n",
       "      <td>Fairway Bunker Tendency</td>\n",
       "      <td>Fairway Bunker Tendency</td>\n",
       "      <td>Fairway Bunker Tendency</td>\n",
       "      <td>Fairway Bunker Tendency</td>\n",
       "      <td>Fairway Bunker Tendency</td>\n",
       "      <td>Fairway Bunker Tendency</td>\n",
       "      <td>Fairway Bunker Tendency</td>\n",
       "    </tr>\n",
       "    <tr>\n",
       "      <th>Variable</th>\n",
       "      <td>Driving Distance - (ROUNDS)</td>\n",
       "      <td>Driving Distance - (ROUNDS)</td>\n",
       "      <td>Driving Distance - (ROUNDS)</td>\n",
       "      <td>Driving Distance - (ROUNDS)</td>\n",
       "      <td>Driving Distance - (ROUNDS)</td>\n",
       "      <td>Driving Distance - (ROUNDS)</td>\n",
       "      <td>Driving Distance - (ROUNDS)</td>\n",
       "      <td>Driving Distance - (ROUNDS)</td>\n",
       "      <td>Driving Distance - (ROUNDS)</td>\n",
       "      <td>Driving Distance - (ROUNDS)</td>\n",
       "      <td>...</td>\n",
       "      <td>Fairway Bunker Tendency - (RELATIVE TO PAR)</td>\n",
       "      <td>Fairway Bunker Tendency - (RELATIVE TO PAR)</td>\n",
       "      <td>Fairway Bunker Tendency - (RELATIVE TO PAR)</td>\n",
       "      <td>Fairway Bunker Tendency - (RELATIVE TO PAR)</td>\n",
       "      <td>Fairway Bunker Tendency - (RELATIVE TO PAR)</td>\n",
       "      <td>Fairway Bunker Tendency - (RELATIVE TO PAR)</td>\n",
       "      <td>Fairway Bunker Tendency - (RELATIVE TO PAR)</td>\n",
       "      <td>Fairway Bunker Tendency - (RELATIVE TO PAR)</td>\n",
       "      <td>Fairway Bunker Tendency - (RELATIVE TO PAR)</td>\n",
       "      <td>Fairway Bunker Tendency - (RELATIVE TO PAR)</td>\n",
       "    </tr>\n",
       "    <tr>\n",
       "      <th>Value</th>\n",
       "      <td>71</td>\n",
       "      <td>77</td>\n",
       "      <td>83</td>\n",
       "      <td>54</td>\n",
       "      <td>100</td>\n",
       "      <td>63</td>\n",
       "      <td>88</td>\n",
       "      <td>64</td>\n",
       "      <td>64</td>\n",
       "      <td>92</td>\n",
       "      <td>...</td>\n",
       "      <td>+0.155</td>\n",
       "      <td>+0.155</td>\n",
       "      <td>+0.161</td>\n",
       "      <td>+0.188</td>\n",
       "      <td>+0.188</td>\n",
       "      <td>+0.209</td>\n",
       "      <td>+0.239</td>\n",
       "      <td>+0.225</td>\n",
       "      <td>+0.143</td>\n",
       "      <td>+0.181</td>\n",
       "    </tr>\n",
       "  </tbody>\n",
       "</table>\n",
       "<p>5 rows × 2740403 columns</p>\n",
       "</div>"
      ],
      "text/plain": [
       "                                 0                            1        \\\n",
       "Player Name              Robert Garrigus                 Bubba Watson   \n",
       "Season                              2010                         2010   \n",
       "Statistic               Driving Distance             Driving Distance   \n",
       "Variable     Driving Distance - (ROUNDS)  Driving Distance - (ROUNDS)   \n",
       "Value                                 71                           77   \n",
       "\n",
       "                                 2                            3        \\\n",
       "Player Name               Dustin Johnson              Brett Wetterich   \n",
       "Season                              2010                         2010   \n",
       "Statistic               Driving Distance             Driving Distance   \n",
       "Variable     Driving Distance - (ROUNDS)  Driving Distance - (ROUNDS)   \n",
       "Value                                 83                           54   \n",
       "\n",
       "                                 4                            5        \\\n",
       "Player Name                  J.B. Holmes                    John Daly   \n",
       "Season                              2010                         2010   \n",
       "Statistic               Driving Distance             Driving Distance   \n",
       "Variable     Driving Distance - (ROUNDS)  Driving Distance - (ROUNDS)   \n",
       "Value                                100                           63   \n",
       "\n",
       "                                 6                            7        \\\n",
       "Player Name                Graham DeLaet                Angel Cabrera   \n",
       "Season                              2010                         2010   \n",
       "Statistic               Driving Distance             Driving Distance   \n",
       "Variable     Driving Distance - (ROUNDS)  Driving Distance - (ROUNDS)   \n",
       "Value                                 88                           64   \n",
       "\n",
       "                                 8                            9        ...  \\\n",
       "Player Name               Charles Warren                  D.J. Trahan  ...   \n",
       "Season                              2010                         2010  ...   \n",
       "Statistic               Driving Distance             Driving Distance  ...   \n",
       "Variable     Driving Distance - (ROUNDS)  Driving Distance - (ROUNDS)  ...   \n",
       "Value                                 64                           92  ...   \n",
       "\n",
       "                                                 2740393  \\\n",
       "Player Name                                  Michael Kim   \n",
       "Season                                              2018   \n",
       "Statistic                        Fairway Bunker Tendency   \n",
       "Variable     Fairway Bunker Tendency - (RELATIVE TO PAR)   \n",
       "Value                                             +0.155   \n",
       "\n",
       "                                                 2740394  \\\n",
       "Player Name                                Peter Malnati   \n",
       "Season                                              2018   \n",
       "Statistic                        Fairway Bunker Tendency   \n",
       "Variable     Fairway Bunker Tendency - (RELATIVE TO PAR)   \n",
       "Value                                             +0.155   \n",
       "\n",
       "                                                 2740395  \\\n",
       "Player Name                                    Jason Day   \n",
       "Season                                              2018   \n",
       "Statistic                        Fairway Bunker Tendency   \n",
       "Variable     Fairway Bunker Tendency - (RELATIVE TO PAR)   \n",
       "Value                                             +0.161   \n",
       "\n",
       "                                                 2740396  \\\n",
       "Player Name                               Rory Sabbatini   \n",
       "Season                                              2018   \n",
       "Statistic                        Fairway Bunker Tendency   \n",
       "Variable     Fairway Bunker Tendency - (RELATIVE TO PAR)   \n",
       "Value                                             +0.188   \n",
       "\n",
       "                                                 2740397  \\\n",
       "Player Name                             Mackenzie Hughes   \n",
       "Season                                              2018   \n",
       "Statistic                        Fairway Bunker Tendency   \n",
       "Variable     Fairway Bunker Tendency - (RELATIVE TO PAR)   \n",
       "Value                                             +0.188   \n",
       "\n",
       "                                                 2740398  \\\n",
       "Player Name                                   Ben Martin   \n",
       "Season                                              2018   \n",
       "Statistic                        Fairway Bunker Tendency   \n",
       "Variable     Fairway Bunker Tendency - (RELATIVE TO PAR)   \n",
       "Value                                             +0.209   \n",
       "\n",
       "                                                 2740399  \\\n",
       "Player Name                                 Robert Streb   \n",
       "Season                                              2018   \n",
       "Statistic                        Fairway Bunker Tendency   \n",
       "Variable     Fairway Bunker Tendency - (RELATIVE TO PAR)   \n",
       "Value                                             +0.239   \n",
       "\n",
       "                                                 2740400  \\\n",
       "Player Name                                   Andrew Yun   \n",
       "Season                                              2018   \n",
       "Statistic                        Fairway Bunker Tendency   \n",
       "Variable     Fairway Bunker Tendency - (RELATIVE TO PAR)   \n",
       "Value                                             +0.225   \n",
       "\n",
       "                                                 2740401  \\\n",
       "Player Name                                 Nate Lashley   \n",
       "Season                                              2018   \n",
       "Statistic                        Fairway Bunker Tendency   \n",
       "Variable     Fairway Bunker Tendency - (RELATIVE TO PAR)   \n",
       "Value                                             +0.143   \n",
       "\n",
       "                                                 2740402  \n",
       "Player Name                                Martin Flores  \n",
       "Season                                              2018  \n",
       "Statistic                        Fairway Bunker Tendency  \n",
       "Variable     Fairway Bunker Tendency - (RELATIVE TO PAR)  \n",
       "Value                                             +0.181  \n",
       "\n",
       "[5 rows x 2740403 columns]"
      ]
     },
     "execution_count": 22,
     "metadata": {},
     "output_type": "execute_result"
    }
   ],
   "source": [
    "dataframe.T"
   ]
  },
  {
   "cell_type": "markdown",
   "metadata": {
    "slideshow": {
     "slide_type": "slide"
    }
   },
   "source": [
    "### DDL Modifications ###\n",
    "\n",
    "Changing the schema layout of your Dataframe"
   ]
  },
  {
   "cell_type": "code",
   "execution_count": 13,
   "metadata": {
    "scrolled": true,
    "slideshow": {
     "slide_type": "fragment"
    }
   },
   "outputs": [
    {
     "data": {
      "text/html": [
       "<div>\n",
       "<style scoped>\n",
       "    .dataframe tbody tr th:only-of-type {\n",
       "        vertical-align: middle;\n",
       "    }\n",
       "\n",
       "    .dataframe tbody tr th {\n",
       "        vertical-align: top;\n",
       "    }\n",
       "\n",
       "    .dataframe thead th {\n",
       "        text-align: right;\n",
       "    }\n",
       "</style>\n",
       "<table border=\"1\" class=\"dataframe\">\n",
       "  <thead>\n",
       "    <tr style=\"text-align: right;\">\n",
       "      <th></th>\n",
       "      <th>Player Name</th>\n",
       "      <th>Season</th>\n",
       "      <th>Statistic</th>\n",
       "      <th>Variable</th>\n",
       "      <th>Distance</th>\n",
       "    </tr>\n",
       "  </thead>\n",
       "  <tbody>\n",
       "    <tr>\n",
       "      <th>0</th>\n",
       "      <td>Robert Garrigus</td>\n",
       "      <td>2010</td>\n",
       "      <td>Driving Distance</td>\n",
       "      <td>Driving Distance - (ROUNDS)</td>\n",
       "      <td>71</td>\n",
       "    </tr>\n",
       "    <tr>\n",
       "      <th>1</th>\n",
       "      <td>Bubba Watson</td>\n",
       "      <td>2010</td>\n",
       "      <td>Driving Distance</td>\n",
       "      <td>Driving Distance - (ROUNDS)</td>\n",
       "      <td>77</td>\n",
       "    </tr>\n",
       "    <tr>\n",
       "      <th>2</th>\n",
       "      <td>Dustin Johnson</td>\n",
       "      <td>2010</td>\n",
       "      <td>Driving Distance</td>\n",
       "      <td>Driving Distance - (ROUNDS)</td>\n",
       "      <td>83</td>\n",
       "    </tr>\n",
       "  </tbody>\n",
       "</table>\n",
       "</div>"
      ],
      "text/plain": [
       "       Player Name  Season         Statistic                     Variable  \\\n",
       "0  Robert Garrigus    2010  Driving Distance  Driving Distance - (ROUNDS)   \n",
       "1     Bubba Watson    2010  Driving Distance  Driving Distance - (ROUNDS)   \n",
       "2   Dustin Johnson    2010  Driving Distance  Driving Distance - (ROUNDS)   \n",
       "\n",
       "  Distance  \n",
       "0       71  \n",
       "1       77  \n",
       "2       83  "
      ]
     },
     "execution_count": 13,
     "metadata": {},
     "output_type": "execute_result"
    }
   ],
   "source": [
    "dataframe.rename(columns = {'Value':'Distance'}).head(3)\n"
   ]
  },
  {
   "cell_type": "code",
   "execution_count": 7,
   "metadata": {
    "scrolled": true,
    "slideshow": {
     "slide_type": "fragment"
    }
   },
   "outputs": [
    {
     "data": {
      "text/html": [
       "<div>\n",
       "<style scoped>\n",
       "    .dataframe tbody tr th:only-of-type {\n",
       "        vertical-align: middle;\n",
       "    }\n",
       "\n",
       "    .dataframe tbody tr th {\n",
       "        vertical-align: top;\n",
       "    }\n",
       "\n",
       "    .dataframe thead th {\n",
       "        text-align: right;\n",
       "    }\n",
       "</style>\n",
       "<table border=\"1\" class=\"dataframe\">\n",
       "  <thead>\n",
       "    <tr style=\"text-align: right;\">\n",
       "      <th></th>\n",
       "      <th>Player Name</th>\n",
       "      <th>Season</th>\n",
       "      <th>Statistic</th>\n",
       "      <th>Variable</th>\n",
       "      <th>Value</th>\n",
       "    </tr>\n",
       "  </thead>\n",
       "  <tbody>\n",
       "    <tr>\n",
       "      <th>0</th>\n",
       "      <td>Robert Garrigus</td>\n",
       "      <td>2010</td>\n",
       "      <td>Driving Distance</td>\n",
       "      <td>Driving Distance - (ROUNDS)</td>\n",
       "      <td>71</td>\n",
       "    </tr>\n",
       "    <tr>\n",
       "      <th>1</th>\n",
       "      <td>Bubba Watson</td>\n",
       "      <td>2010</td>\n",
       "      <td>Driving Distance</td>\n",
       "      <td>Driving Distance - (ROUNDS)</td>\n",
       "      <td>77</td>\n",
       "    </tr>\n",
       "    <tr>\n",
       "      <th>2</th>\n",
       "      <td>Dustin Johnson</td>\n",
       "      <td>2010</td>\n",
       "      <td>Driving Distance</td>\n",
       "      <td>Driving Distance - (ROUNDS)</td>\n",
       "      <td>83</td>\n",
       "    </tr>\n",
       "  </tbody>\n",
       "</table>\n",
       "</div>"
      ],
      "text/plain": [
       "       Player Name  Season         Statistic                     Variable  \\\n",
       "0  Robert Garrigus    2010  Driving Distance  Driving Distance - (ROUNDS)   \n",
       "1     Bubba Watson    2010  Driving Distance  Driving Distance - (ROUNDS)   \n",
       "2   Dustin Johnson    2010  Driving Distance  Driving Distance - (ROUNDS)   \n",
       "\n",
       "  Value  \n",
       "0    71  \n",
       "1    77  \n",
       "2    83  "
      ]
     },
     "execution_count": 7,
     "metadata": {},
     "output_type": "execute_result"
    }
   ],
   "source": [
    "dataframe.head(3)"
   ]
  },
  {
   "cell_type": "code",
   "execution_count": 14,
   "metadata": {
    "scrolled": true,
    "slideshow": {
     "slide_type": "fragment"
    }
   },
   "outputs": [],
   "source": [
    "dataframe.rename(columns = {'Value':'Distance'}, inplace=True)\n"
   ]
  },
  {
   "cell_type": "code",
   "execution_count": null,
   "metadata": {
    "slideshow": {
     "slide_type": "fragment"
    }
   },
   "outputs": [],
   "source": [
    "dataframe = dataframe.rename(columns = {'Value':'Distance'})"
   ]
  },
  {
   "cell_type": "markdown",
   "metadata": {
    "slideshow": {
     "slide_type": "slide"
    }
   },
   "source": [
    "### Altering Data Types ###\n",
    "```\n",
    "https://stackoverflow.com/questions/15891038/change-data-type-of-columns-in-pandas\n",
    "```"
   ]
  },
  {
   "cell_type": "code",
   "execution_count": 15,
   "metadata": {
    "slideshow": {
     "slide_type": "fragment"
    }
   },
   "outputs": [
    {
     "data": {
      "text/plain": [
       "Player Name    object\n",
       "Season          int64\n",
       "Statistic      object\n",
       "Variable       object\n",
       "Distance       object\n",
       "dtype: object"
      ]
     },
     "execution_count": 15,
     "metadata": {},
     "output_type": "execute_result"
    }
   ],
   "source": [
    "Distance = dataframe.query('Variable==\"Driving Distance - (AVG.)\"')\n",
    "Distance.dtypes"
   ]
  },
  {
   "cell_type": "code",
   "execution_count": 10,
   "metadata": {
    "slideshow": {
     "slide_type": "fragment"
    }
   },
   "outputs": [
    {
     "data": {
      "text/html": [
       "<div>\n",
       "<style scoped>\n",
       "    .dataframe tbody tr th:only-of-type {\n",
       "        vertical-align: middle;\n",
       "    }\n",
       "\n",
       "    .dataframe tbody tr th {\n",
       "        vertical-align: top;\n",
       "    }\n",
       "\n",
       "    .dataframe thead th {\n",
       "        text-align: right;\n",
       "    }\n",
       "</style>\n",
       "<table border=\"1\" class=\"dataframe\">\n",
       "  <thead>\n",
       "    <tr style=\"text-align: right;\">\n",
       "      <th></th>\n",
       "      <th>Player Name</th>\n",
       "      <th>Season</th>\n",
       "      <th>Statistic</th>\n",
       "      <th>Variable</th>\n",
       "      <th>Distance</th>\n",
       "    </tr>\n",
       "  </thead>\n",
       "  <tbody>\n",
       "    <tr>\n",
       "      <th>192</th>\n",
       "      <td>Robert Garrigus</td>\n",
       "      <td>2010</td>\n",
       "      <td>Driving Distance</td>\n",
       "      <td>Driving Distance - (AVG.)</td>\n",
       "      <td>315.5</td>\n",
       "    </tr>\n",
       "    <tr>\n",
       "      <th>193</th>\n",
       "      <td>Bubba Watson</td>\n",
       "      <td>2010</td>\n",
       "      <td>Driving Distance</td>\n",
       "      <td>Driving Distance - (AVG.)</td>\n",
       "      <td>309.8</td>\n",
       "    </tr>\n",
       "    <tr>\n",
       "      <th>194</th>\n",
       "      <td>Dustin Johnson</td>\n",
       "      <td>2010</td>\n",
       "      <td>Driving Distance</td>\n",
       "      <td>Driving Distance - (AVG.)</td>\n",
       "      <td>308.5</td>\n",
       "    </tr>\n",
       "  </tbody>\n",
       "</table>\n",
       "</div>"
      ],
      "text/plain": [
       "         Player Name  Season         Statistic                   Variable  \\\n",
       "192  Robert Garrigus    2010  Driving Distance  Driving Distance - (AVG.)   \n",
       "193     Bubba Watson    2010  Driving Distance  Driving Distance - (AVG.)   \n",
       "194   Dustin Johnson    2010  Driving Distance  Driving Distance - (AVG.)   \n",
       "\n",
       "    Distance  \n",
       "192    315.5  \n",
       "193    309.8  \n",
       "194    308.5  "
      ]
     },
     "execution_count": 10,
     "metadata": {},
     "output_type": "execute_result"
    }
   ],
   "source": [
    "Distance.head(3)"
   ]
  },
  {
   "cell_type": "code",
   "execution_count": 16,
   "metadata": {
    "slideshow": {
     "slide_type": "fragment"
    }
   },
   "outputs": [
    {
     "data": {
      "text/plain": [
       "Player Name     object\n",
       "Season           int64\n",
       "Statistic       object\n",
       "Variable        object\n",
       "Distance       float64\n",
       "dtype: object"
      ]
     },
     "execution_count": 16,
     "metadata": {},
     "output_type": "execute_result"
    }
   ],
   "source": [
    "Distance[[\"Distance\"]] = Distance[[\"Distance\"]].apply(pd.to_numeric)\n",
    "Distance.dtypes"
   ]
  },
  {
   "cell_type": "markdown",
   "metadata": {
    "slideshow": {
     "slide_type": "slide"
    }
   },
   "source": [
    "### Rename a column\n",
    "**Remeber to set inplace=True**"
   ]
  },
  {
   "cell_type": "code",
   "execution_count": 17,
   "metadata": {
    "scrolled": false,
    "slideshow": {
     "slide_type": "fragment"
    }
   },
   "outputs": [
    {
     "data": {
      "text/html": [
       "<div>\n",
       "<style scoped>\n",
       "    .dataframe tbody tr th:only-of-type {\n",
       "        vertical-align: middle;\n",
       "    }\n",
       "\n",
       "    .dataframe tbody tr th {\n",
       "        vertical-align: top;\n",
       "    }\n",
       "\n",
       "    .dataframe thead th {\n",
       "        text-align: right;\n",
       "    }\n",
       "</style>\n",
       "<table border=\"1\" class=\"dataframe\">\n",
       "  <thead>\n",
       "    <tr style=\"text-align: right;\">\n",
       "      <th></th>\n",
       "      <th>PlayerName</th>\n",
       "      <th>Season_YY</th>\n",
       "      <th>Statistic</th>\n",
       "      <th>Variable</th>\n",
       "      <th>Distance</th>\n",
       "    </tr>\n",
       "  </thead>\n",
       "  <tbody>\n",
       "    <tr>\n",
       "      <th>192</th>\n",
       "      <td>Robert Garrigus</td>\n",
       "      <td>2010</td>\n",
       "      <td>Driving Distance</td>\n",
       "      <td>Driving Distance - (AVG.)</td>\n",
       "      <td>315.5</td>\n",
       "    </tr>\n",
       "    <tr>\n",
       "      <th>193</th>\n",
       "      <td>Bubba Watson</td>\n",
       "      <td>2010</td>\n",
       "      <td>Driving Distance</td>\n",
       "      <td>Driving Distance - (AVG.)</td>\n",
       "      <td>309.8</td>\n",
       "    </tr>\n",
       "    <tr>\n",
       "      <th>194</th>\n",
       "      <td>Dustin Johnson</td>\n",
       "      <td>2010</td>\n",
       "      <td>Driving Distance</td>\n",
       "      <td>Driving Distance - (AVG.)</td>\n",
       "      <td>308.5</td>\n",
       "    </tr>\n",
       "    <tr>\n",
       "      <th>195</th>\n",
       "      <td>Brett Wetterich</td>\n",
       "      <td>2010</td>\n",
       "      <td>Driving Distance</td>\n",
       "      <td>Driving Distance - (AVG.)</td>\n",
       "      <td>307.3</td>\n",
       "    </tr>\n",
       "    <tr>\n",
       "      <th>196</th>\n",
       "      <td>J.B. Holmes</td>\n",
       "      <td>2010</td>\n",
       "      <td>Driving Distance</td>\n",
       "      <td>Driving Distance - (AVG.)</td>\n",
       "      <td>307.2</td>\n",
       "    </tr>\n",
       "  </tbody>\n",
       "</table>\n",
       "</div>"
      ],
      "text/plain": [
       "          PlayerName  Season_YY         Statistic                   Variable  \\\n",
       "192  Robert Garrigus       2010  Driving Distance  Driving Distance - (AVG.)   \n",
       "193     Bubba Watson       2010  Driving Distance  Driving Distance - (AVG.)   \n",
       "194   Dustin Johnson       2010  Driving Distance  Driving Distance - (AVG.)   \n",
       "195  Brett Wetterich       2010  Driving Distance  Driving Distance - (AVG.)   \n",
       "196      J.B. Holmes       2010  Driving Distance  Driving Distance - (AVG.)   \n",
       "\n",
       "     Distance  \n",
       "192     315.5  \n",
       "193     309.8  \n",
       "194     308.5  \n",
       "195     307.3  \n",
       "196     307.2  "
      ]
     },
     "execution_count": 17,
     "metadata": {},
     "output_type": "execute_result"
    }
   ],
   "source": [
    "column_names = {\"Player Name\":\"PlayerName\",\"Season\":\"Season_YY\",\"Statistic\":\"Statistic\",\"Variable\":\"Variable\",\"Distance\":\"Distance\"}\n",
    "\n",
    "Distance.rename(columns=column_names, inplace=True)\n",
    "Distance.head()"
   ]
  },
  {
   "cell_type": "markdown",
   "metadata": {
    "slideshow": {
     "slide_type": "slide"
    }
   },
   "source": [
    "**Drop a column**"
   ]
  },
  {
   "cell_type": "code",
   "execution_count": 18,
   "metadata": {
    "slideshow": {
     "slide_type": "fragment"
    }
   },
   "outputs": [
    {
     "data": {
      "text/html": [
       "<div>\n",
       "<style scoped>\n",
       "    .dataframe tbody tr th:only-of-type {\n",
       "        vertical-align: middle;\n",
       "    }\n",
       "\n",
       "    .dataframe tbody tr th {\n",
       "        vertical-align: top;\n",
       "    }\n",
       "\n",
       "    .dataframe thead th {\n",
       "        text-align: right;\n",
       "    }\n",
       "</style>\n",
       "<table border=\"1\" class=\"dataframe\">\n",
       "  <thead>\n",
       "    <tr style=\"text-align: right;\">\n",
       "      <th></th>\n",
       "      <th>PlayerName</th>\n",
       "      <th>Season_YY</th>\n",
       "      <th>Variable</th>\n",
       "      <th>Distance</th>\n",
       "    </tr>\n",
       "  </thead>\n",
       "  <tbody>\n",
       "    <tr>\n",
       "      <th>192</th>\n",
       "      <td>Robert Garrigus</td>\n",
       "      <td>2010</td>\n",
       "      <td>Driving Distance - (AVG.)</td>\n",
       "      <td>315.5</td>\n",
       "    </tr>\n",
       "    <tr>\n",
       "      <th>193</th>\n",
       "      <td>Bubba Watson</td>\n",
       "      <td>2010</td>\n",
       "      <td>Driving Distance - (AVG.)</td>\n",
       "      <td>309.8</td>\n",
       "    </tr>\n",
       "    <tr>\n",
       "      <th>194</th>\n",
       "      <td>Dustin Johnson</td>\n",
       "      <td>2010</td>\n",
       "      <td>Driving Distance - (AVG.)</td>\n",
       "      <td>308.5</td>\n",
       "    </tr>\n",
       "    <tr>\n",
       "      <th>195</th>\n",
       "      <td>Brett Wetterich</td>\n",
       "      <td>2010</td>\n",
       "      <td>Driving Distance - (AVG.)</td>\n",
       "      <td>307.3</td>\n",
       "    </tr>\n",
       "    <tr>\n",
       "      <th>196</th>\n",
       "      <td>J.B. Holmes</td>\n",
       "      <td>2010</td>\n",
       "      <td>Driving Distance - (AVG.)</td>\n",
       "      <td>307.2</td>\n",
       "    </tr>\n",
       "  </tbody>\n",
       "</table>\n",
       "</div>"
      ],
      "text/plain": [
       "          PlayerName  Season_YY                   Variable  Distance\n",
       "192  Robert Garrigus       2010  Driving Distance - (AVG.)     315.5\n",
       "193     Bubba Watson       2010  Driving Distance - (AVG.)     309.8\n",
       "194   Dustin Johnson       2010  Driving Distance - (AVG.)     308.5\n",
       "195  Brett Wetterich       2010  Driving Distance - (AVG.)     307.3\n",
       "196      J.B. Holmes       2010  Driving Distance - (AVG.)     307.2"
      ]
     },
     "execution_count": 18,
     "metadata": {},
     "output_type": "execute_result"
    }
   ],
   "source": [
    "Distance.drop(\"Statistic\", axis = 1, inplace=True)\n",
    "Distance.head()"
   ]
  },
  {
   "cell_type": "markdown",
   "metadata": {
    "slideshow": {
     "slide_type": "slide"
    }
   },
   "source": [
    "## Sorting Data ##\n",
    "\n",
    "**sort by index**"
   ]
  },
  {
   "cell_type": "code",
   "execution_count": null,
   "metadata": {
    "slideshow": {
     "slide_type": "fragment"
    }
   },
   "outputs": [],
   "source": [
    "dataframe.sort_index(axis=1, ascending=False).head(5)"
   ]
  },
  {
   "cell_type": "markdown",
   "metadata": {
    "slideshow": {
     "slide_type": "fragment"
    }
   },
   "source": [
    "**Sort by column name**"
   ]
  },
  {
   "cell_type": "code",
   "execution_count": 36,
   "metadata": {
    "slideshow": {
     "slide_type": "fragment"
    }
   },
   "outputs": [
    {
     "data": {
      "text/html": [
       "<div>\n",
       "<style scoped>\n",
       "    .dataframe tbody tr th:only-of-type {\n",
       "        vertical-align: middle;\n",
       "    }\n",
       "\n",
       "    .dataframe tbody tr th {\n",
       "        vertical-align: top;\n",
       "    }\n",
       "\n",
       "    .dataframe thead th {\n",
       "        text-align: right;\n",
       "    }\n",
       "</style>\n",
       "<table border=\"1\" class=\"dataframe\">\n",
       "  <thead>\n",
       "    <tr style=\"text-align: right;\">\n",
       "      <th></th>\n",
       "      <th>Player Name</th>\n",
       "      <th>Season</th>\n",
       "      <th>Statistic</th>\n",
       "      <th>Variable</th>\n",
       "      <th>Distance</th>\n",
       "    </tr>\n",
       "  </thead>\n",
       "  <tbody>\n",
       "    <tr>\n",
       "      <th>2605938</th>\n",
       "      <td>A.J. McInerney</td>\n",
       "      <td>2018</td>\n",
       "      <td>Consecutive Par 3 Birdies</td>\n",
       "      <td>Consecutive Par 3 Birdies - (NUMBER OF HOLES)</td>\n",
       "      <td>1</td>\n",
       "    </tr>\n",
       "    <tr>\n",
       "      <th>2675982</th>\n",
       "      <td>A.J. McInerney</td>\n",
       "      <td>2018</td>\n",
       "      <td>FedExCup Season Points for Non-Members</td>\n",
       "      <td>FedExCup Season Points for Non-Members - (WGC ...</td>\n",
       "      <td>NaN</td>\n",
       "    </tr>\n",
       "    <tr>\n",
       "      <th>2511827</th>\n",
       "      <td>A.J. McInerney</td>\n",
       "      <td>2018</td>\n",
       "      <td>Consecutive Fairways Hit</td>\n",
       "      <td>Consecutive Fairways Hit - (CURRENT STREAK)</td>\n",
       "      <td>NaN</td>\n",
       "    </tr>\n",
       "    <tr>\n",
       "      <th>2522325</th>\n",
       "      <td>A.J. McInerney</td>\n",
       "      <td>2018</td>\n",
       "      <td>First Tee Late Lowest Round</td>\n",
       "      <td>First Tee Late Lowest Round - (ROUNDS)</td>\n",
       "      <td>12</td>\n",
       "    </tr>\n",
       "    <tr>\n",
       "      <th>2470013</th>\n",
       "      <td>A.J. McInerney</td>\n",
       "      <td>2018</td>\n",
       "      <td>Total Money (Official and Unofficial)</td>\n",
       "      <td>Total Money (Official and Unofficial) - (EVENTS)</td>\n",
       "      <td>4</td>\n",
       "    </tr>\n",
       "  </tbody>\n",
       "</table>\n",
       "</div>"
      ],
      "text/plain": [
       "            Player Name  Season                               Statistic  \\\n",
       "2605938  A.J. McInerney    2018               Consecutive Par 3 Birdies   \n",
       "2675982  A.J. McInerney    2018  FedExCup Season Points for Non-Members   \n",
       "2511827  A.J. McInerney    2018                Consecutive Fairways Hit   \n",
       "2522325  A.J. McInerney    2018             First Tee Late Lowest Round   \n",
       "2470013  A.J. McInerney    2018   Total Money (Official and Unofficial)   \n",
       "\n",
       "                                                  Variable Distance  \n",
       "2605938      Consecutive Par 3 Birdies - (NUMBER OF HOLES)        1  \n",
       "2675982  FedExCup Season Points for Non-Members - (WGC ...      NaN  \n",
       "2511827        Consecutive Fairways Hit - (CURRENT STREAK)      NaN  \n",
       "2522325             First Tee Late Lowest Round - (ROUNDS)       12  \n",
       "2470013   Total Money (Official and Unofficial) - (EVENTS)        4  "
      ]
     },
     "execution_count": 36,
     "metadata": {},
     "output_type": "execute_result"
    }
   ],
   "source": [
    "dataframe.sort_values(by='Player Name').head()"
   ]
  },
  {
   "cell_type": "markdown",
   "metadata": {
    "slideshow": {
     "slide_type": "slide"
    }
   },
   "source": [
    "## Data Slicing ##"
   ]
  },
  {
   "cell_type": "code",
   "execution_count": 35,
   "metadata": {
    "slideshow": {
     "slide_type": "fragment"
    }
   },
   "outputs": [
    {
     "data": {
      "text/plain": [
       "array([2010, 2011, 2012, 2013, 2014, 2015, 2016, 2017, 2018], dtype=int64)"
      ]
     },
     "execution_count": 35,
     "metadata": {},
     "output_type": "execute_result"
    }
   ],
   "source": [
    "dataframe.Season.unique()"
   ]
  },
  {
   "cell_type": "code",
   "execution_count": 14,
   "metadata": {
    "slideshow": {
     "slide_type": "fragment"
    }
   },
   "outputs": [
    {
     "data": {
      "text/plain": [
       "array([2010, 2011, 2012, 2013, 2014, 2015, 2016, 2017, 2018], dtype=int64)"
      ]
     },
     "execution_count": 14,
     "metadata": {},
     "output_type": "execute_result"
    }
   ],
   "source": [
    "#dataframe[[\"Season\"]].unique()\n",
    "dataframe[\"Season\"].unique()"
   ]
  },
  {
   "cell_type": "code",
   "execution_count": 101,
   "metadata": {
    "slideshow": {
     "slide_type": "fragment"
    }
   },
   "outputs": [
    {
     "data": {
      "text/html": [
       "<div>\n",
       "<style scoped>\n",
       "    .dataframe tbody tr th:only-of-type {\n",
       "        vertical-align: middle;\n",
       "    }\n",
       "\n",
       "    .dataframe tbody tr th {\n",
       "        vertical-align: top;\n",
       "    }\n",
       "\n",
       "    .dataframe thead th {\n",
       "        text-align: right;\n",
       "    }\n",
       "</style>\n",
       "<table border=\"1\" class=\"dataframe\">\n",
       "  <thead>\n",
       "    <tr style=\"text-align: right;\">\n",
       "      <th></th>\n",
       "      <th>Player Name</th>\n",
       "      <th>Season</th>\n",
       "      <th>Statistic</th>\n",
       "      <th>Variable</th>\n",
       "      <th>Distance</th>\n",
       "    </tr>\n",
       "  </thead>\n",
       "  <tbody>\n",
       "    <tr>\n",
       "      <th>6</th>\n",
       "      <td>Graham DeLaet</td>\n",
       "      <td>2010</td>\n",
       "      <td>Driving Distance</td>\n",
       "      <td>Driving Distance - (ROUNDS)</td>\n",
       "      <td>88</td>\n",
       "    </tr>\n",
       "    <tr>\n",
       "      <th>7</th>\n",
       "      <td>Angel Cabrera</td>\n",
       "      <td>2010</td>\n",
       "      <td>Driving Distance</td>\n",
       "      <td>Driving Distance - (ROUNDS)</td>\n",
       "      <td>64</td>\n",
       "    </tr>\n",
       "  </tbody>\n",
       "</table>\n",
       "</div>"
      ],
      "text/plain": [
       "     Player Name  Season         Statistic                     Variable  \\\n",
       "6  Graham DeLaet    2010  Driving Distance  Driving Distance - (ROUNDS)   \n",
       "7  Angel Cabrera    2010  Driving Distance  Driving Distance - (ROUNDS)   \n",
       "\n",
       "  Distance  \n",
       "6       88  \n",
       "7       64  "
      ]
     },
     "execution_count": 101,
     "metadata": {},
     "output_type": "execute_result"
    }
   ],
   "source": [
    "dataframe[6:8]"
   ]
  },
  {
   "cell_type": "code",
   "execution_count": 39,
   "metadata": {
    "slideshow": {
     "slide_type": "fragment"
    }
   },
   "outputs": [
    {
     "data": {
      "text/html": [
       "<div>\n",
       "<style scoped>\n",
       "    .dataframe tbody tr th:only-of-type {\n",
       "        vertical-align: middle;\n",
       "    }\n",
       "\n",
       "    .dataframe tbody tr th {\n",
       "        vertical-align: top;\n",
       "    }\n",
       "\n",
       "    .dataframe thead th {\n",
       "        text-align: right;\n",
       "    }\n",
       "</style>\n",
       "<table border=\"1\" class=\"dataframe\">\n",
       "  <thead>\n",
       "    <tr style=\"text-align: right;\">\n",
       "      <th></th>\n",
       "      <th>Player Name</th>\n",
       "      <th>Season</th>\n",
       "      <th>Statistic</th>\n",
       "      <th>Variable</th>\n",
       "      <th>Distance</th>\n",
       "    </tr>\n",
       "  </thead>\n",
       "  <tbody>\n",
       "    <tr>\n",
       "      <th>2740399</th>\n",
       "      <td>Robert Streb</td>\n",
       "      <td>2018</td>\n",
       "      <td>Fairway Bunker Tendency</td>\n",
       "      <td>Fairway Bunker Tendency - (RELATIVE TO PAR)</td>\n",
       "      <td>+0.239</td>\n",
       "    </tr>\n",
       "    <tr>\n",
       "      <th>2740400</th>\n",
       "      <td>Andrew Yun</td>\n",
       "      <td>2018</td>\n",
       "      <td>Fairway Bunker Tendency</td>\n",
       "      <td>Fairway Bunker Tendency - (RELATIVE TO PAR)</td>\n",
       "      <td>+0.225</td>\n",
       "    </tr>\n",
       "    <tr>\n",
       "      <th>2740401</th>\n",
       "      <td>Nate Lashley</td>\n",
       "      <td>2018</td>\n",
       "      <td>Fairway Bunker Tendency</td>\n",
       "      <td>Fairway Bunker Tendency - (RELATIVE TO PAR)</td>\n",
       "      <td>+0.143</td>\n",
       "    </tr>\n",
       "  </tbody>\n",
       "</table>\n",
       "</div>"
      ],
      "text/plain": [
       "          Player Name  Season                Statistic  \\\n",
       "2740399  Robert Streb    2018  Fairway Bunker Tendency   \n",
       "2740400    Andrew Yun    2018  Fairway Bunker Tendency   \n",
       "2740401  Nate Lashley    2018  Fairway Bunker Tendency   \n",
       "\n",
       "                                            Variable Distance  \n",
       "2740399  Fairway Bunker Tendency - (RELATIVE TO PAR)   +0.239  \n",
       "2740400  Fairway Bunker Tendency - (RELATIVE TO PAR)   +0.225  \n",
       "2740401  Fairway Bunker Tendency - (RELATIVE TO PAR)   +0.143  "
      ]
     },
     "execution_count": 39,
     "metadata": {},
     "output_type": "execute_result"
    }
   ],
   "source": [
    "dataframe[-4:-1]"
   ]
  },
  {
   "cell_type": "markdown",
   "metadata": {
    "slideshow": {
     "slide_type": "slide"
    }
   },
   "source": [
    "### loc vs iloc\n",
    "```\n",
    "loc gets rows (or columns) with particular labels from the index.\n",
    "iloc gets rows (or columns) at particular positions in the index (so it only takes integers)\n",
    "```"
   ]
  },
  {
   "cell_type": "markdown",
   "metadata": {
    "slideshow": {
     "slide_type": "skip"
    }
   },
   "source": [
    "#### loc ####\n",
    "```\n",
    ".loc[from row:to row, [columns list]]\n",
    "```"
   ]
  },
  {
   "cell_type": "code",
   "execution_count": 42,
   "metadata": {
    "scrolled": true,
    "slideshow": {
     "slide_type": "fragment"
    }
   },
   "outputs": [
    {
     "data": {
      "text/html": [
       "<div>\n",
       "<style scoped>\n",
       "    .dataframe tbody tr th:only-of-type {\n",
       "        vertical-align: middle;\n",
       "    }\n",
       "\n",
       "    .dataframe tbody tr th {\n",
       "        vertical-align: top;\n",
       "    }\n",
       "\n",
       "    .dataframe thead th {\n",
       "        text-align: right;\n",
       "    }\n",
       "</style>\n",
       "<table border=\"1\" class=\"dataframe\">\n",
       "  <thead>\n",
       "    <tr style=\"text-align: right;\">\n",
       "      <th></th>\n",
       "      <th>Season</th>\n",
       "      <th>Player Name</th>\n",
       "    </tr>\n",
       "  </thead>\n",
       "  <tbody>\n",
       "    <tr>\n",
       "      <th>0</th>\n",
       "      <td>2010</td>\n",
       "      <td>Robert Garrigus</td>\n",
       "    </tr>\n",
       "    <tr>\n",
       "      <th>1</th>\n",
       "      <td>2010</td>\n",
       "      <td>Bubba Watson</td>\n",
       "    </tr>\n",
       "    <tr>\n",
       "      <th>2</th>\n",
       "      <td>2010</td>\n",
       "      <td>Dustin Johnson</td>\n",
       "    </tr>\n",
       "    <tr>\n",
       "      <th>3</th>\n",
       "      <td>2010</td>\n",
       "      <td>Brett Wetterich</td>\n",
       "    </tr>\n",
       "    <tr>\n",
       "      <th>4</th>\n",
       "      <td>2010</td>\n",
       "      <td>J.B. Holmes</td>\n",
       "    </tr>\n",
       "  </tbody>\n",
       "</table>\n",
       "</div>"
      ],
      "text/plain": [
       "   Season      Player Name\n",
       "0    2010  Robert Garrigus\n",
       "1    2010     Bubba Watson\n",
       "2    2010   Dustin Johnson\n",
       "3    2010  Brett Wetterich\n",
       "4    2010      J.B. Holmes"
      ]
     },
     "execution_count": 42,
     "metadata": {},
     "output_type": "execute_result"
    }
   ],
   "source": [
    "dataframe.loc[:,[\"Season\",\"Player Name\"]].head()"
   ]
  },
  {
   "cell_type": "code",
   "execution_count": 43,
   "metadata": {
    "slideshow": {
     "slide_type": "fragment"
    }
   },
   "outputs": [
    {
     "data": {
      "text/plain": [
       "Season                2010\n",
       "Player Name    D.J. Trahan\n",
       "Name: 9, dtype: object"
      ]
     },
     "execution_count": 43,
     "metadata": {},
     "output_type": "execute_result"
    }
   ],
   "source": [
    "dataframe.loc[9,[\"Season\",\"Player Name\"]]"
   ]
  },
  {
   "cell_type": "markdown",
   "metadata": {
    "slideshow": {
     "slide_type": "slide"
    }
   },
   "source": [
    "#### iloc\n",
    "```\n",
    ".iloc[from row : to row, from column : to column]\n",
    "```"
   ]
  },
  {
   "cell_type": "code",
   "execution_count": 45,
   "metadata": {
    "slideshow": {
     "slide_type": "fragment"
    }
   },
   "outputs": [
    {
     "data": {
      "text/html": [
       "<div>\n",
       "<style scoped>\n",
       "    .dataframe tbody tr th:only-of-type {\n",
       "        vertical-align: middle;\n",
       "    }\n",
       "\n",
       "    .dataframe tbody tr th {\n",
       "        vertical-align: top;\n",
       "    }\n",
       "\n",
       "    .dataframe thead th {\n",
       "        text-align: right;\n",
       "    }\n",
       "</style>\n",
       "<table border=\"1\" class=\"dataframe\">\n",
       "  <thead>\n",
       "    <tr style=\"text-align: right;\">\n",
       "      <th></th>\n",
       "      <th>Season</th>\n",
       "      <th>Statistic</th>\n",
       "      <th>Variable</th>\n",
       "      <th>Distance</th>\n",
       "    </tr>\n",
       "  </thead>\n",
       "  <tbody>\n",
       "    <tr>\n",
       "      <th>0</th>\n",
       "      <td>2010</td>\n",
       "      <td>Driving Distance</td>\n",
       "      <td>Driving Distance - (ROUNDS)</td>\n",
       "      <td>71</td>\n",
       "    </tr>\n",
       "    <tr>\n",
       "      <th>1</th>\n",
       "      <td>2010</td>\n",
       "      <td>Driving Distance</td>\n",
       "      <td>Driving Distance - (ROUNDS)</td>\n",
       "      <td>77</td>\n",
       "    </tr>\n",
       "    <tr>\n",
       "      <th>2</th>\n",
       "      <td>2010</td>\n",
       "      <td>Driving Distance</td>\n",
       "      <td>Driving Distance - (ROUNDS)</td>\n",
       "      <td>83</td>\n",
       "    </tr>\n",
       "    <tr>\n",
       "      <th>3</th>\n",
       "      <td>2010</td>\n",
       "      <td>Driving Distance</td>\n",
       "      <td>Driving Distance - (ROUNDS)</td>\n",
       "      <td>54</td>\n",
       "    </tr>\n",
       "    <tr>\n",
       "      <th>4</th>\n",
       "      <td>2010</td>\n",
       "      <td>Driving Distance</td>\n",
       "      <td>Driving Distance - (ROUNDS)</td>\n",
       "      <td>100</td>\n",
       "    </tr>\n",
       "  </tbody>\n",
       "</table>\n",
       "</div>"
      ],
      "text/plain": [
       "   Season         Statistic                     Variable Distance\n",
       "0    2010  Driving Distance  Driving Distance - (ROUNDS)       71\n",
       "1    2010  Driving Distance  Driving Distance - (ROUNDS)       77\n",
       "2    2010  Driving Distance  Driving Distance - (ROUNDS)       83\n",
       "3    2010  Driving Distance  Driving Distance - (ROUNDS)       54\n",
       "4    2010  Driving Distance  Driving Distance - (ROUNDS)      100"
      ]
     },
     "execution_count": 45,
     "metadata": {},
     "output_type": "execute_result"
    }
   ],
   "source": [
    "dataframe.iloc[:,1:].head()"
   ]
  },
  {
   "cell_type": "markdown",
   "metadata": {
    "slideshow": {
     "slide_type": "slide"
    }
   },
   "source": [
    "## Filter Data ##"
   ]
  },
  {
   "cell_type": "code",
   "execution_count": 125,
   "metadata": {
    "scrolled": true,
    "slideshow": {
     "slide_type": "fragment"
    }
   },
   "outputs": [
    {
     "data": {
      "text/plain": [
       "0    False\n",
       "1    False\n",
       "2    False\n",
       "3    False\n",
       "4    False\n",
       "Name: Player Name, dtype: bool"
      ]
     },
     "execution_count": 125,
     "metadata": {},
     "output_type": "execute_result"
    }
   ],
   "source": [
    "dataframe[\"Player Name\"].head() == \"Ernie Els\""
   ]
  },
  {
   "cell_type": "code",
   "execution_count": 19,
   "metadata": {
    "scrolled": true,
    "slideshow": {
     "slide_type": "fragment"
    }
   },
   "outputs": [
    {
     "data": {
      "text/html": [
       "<div>\n",
       "<style scoped>\n",
       "    .dataframe tbody tr th:only-of-type {\n",
       "        vertical-align: middle;\n",
       "    }\n",
       "\n",
       "    .dataframe tbody tr th {\n",
       "        vertical-align: top;\n",
       "    }\n",
       "\n",
       "    .dataframe thead th {\n",
       "        text-align: right;\n",
       "    }\n",
       "</style>\n",
       "<table border=\"1\" class=\"dataframe\">\n",
       "  <thead>\n",
       "    <tr style=\"text-align: right;\">\n",
       "      <th></th>\n",
       "      <th>Player Name</th>\n",
       "      <th>Season</th>\n",
       "      <th>Statistic</th>\n",
       "      <th>Variable</th>\n",
       "      <th>Distance</th>\n",
       "    </tr>\n",
       "  </thead>\n",
       "  <tbody>\n",
       "    <tr>\n",
       "      <th>89</th>\n",
       "      <td>Ernie Els</td>\n",
       "      <td>2010</td>\n",
       "      <td>Driving Distance</td>\n",
       "      <td>Driving Distance - (ROUNDS)</td>\n",
       "      <td>72</td>\n",
       "    </tr>\n",
       "    <tr>\n",
       "      <th>281</th>\n",
       "      <td>Ernie Els</td>\n",
       "      <td>2010</td>\n",
       "      <td>Driving Distance</td>\n",
       "      <td>Driving Distance - (AVG.)</td>\n",
       "      <td>288.4</td>\n",
       "    </tr>\n",
       "    <tr>\n",
       "      <th>473</th>\n",
       "      <td>Ernie Els</td>\n",
       "      <td>2010</td>\n",
       "      <td>Driving Distance</td>\n",
       "      <td>Driving Distance - (TOTAL DISTANCE)</td>\n",
       "      <td>40,374</td>\n",
       "    </tr>\n",
       "    <tr>\n",
       "      <th>665</th>\n",
       "      <td>Ernie Els</td>\n",
       "      <td>2010</td>\n",
       "      <td>Driving Distance</td>\n",
       "      <td>Driving Distance - (TOTAL DRIVES)</td>\n",
       "      <td>140</td>\n",
       "    </tr>\n",
       "    <tr>\n",
       "      <th>914</th>\n",
       "      <td>Ernie Els</td>\n",
       "      <td>2010</td>\n",
       "      <td>Driving Accuracy Percentage</td>\n",
       "      <td>Driving Accuracy Percentage - (ROUNDS)</td>\n",
       "      <td>72</td>\n",
       "    </tr>\n",
       "  </tbody>\n",
       "</table>\n",
       "</div>"
      ],
      "text/plain": [
       "    Player Name  Season                    Statistic  \\\n",
       "89    Ernie Els    2010             Driving Distance   \n",
       "281   Ernie Els    2010             Driving Distance   \n",
       "473   Ernie Els    2010             Driving Distance   \n",
       "665   Ernie Els    2010             Driving Distance   \n",
       "914   Ernie Els    2010  Driving Accuracy Percentage   \n",
       "\n",
       "                                   Variable Distance  \n",
       "89              Driving Distance - (ROUNDS)       72  \n",
       "281               Driving Distance - (AVG.)    288.4  \n",
       "473     Driving Distance - (TOTAL DISTANCE)   40,374  \n",
       "665       Driving Distance - (TOTAL DRIVES)      140  \n",
       "914  Driving Accuracy Percentage - (ROUNDS)       72  "
      ]
     },
     "execution_count": 19,
     "metadata": {},
     "output_type": "execute_result"
    }
   ],
   "source": [
    "df_ernie = dataframe[dataframe[\"Player Name\"] == \"Ernie Els\"]\n",
    "df_ernie.head()"
   ]
  },
  {
   "cell_type": "markdown",
   "metadata": {
    "slideshow": {
     "slide_type": "slide"
    }
   },
   "source": [
    "### Query Data ###\n",
    "**isin Function**"
   ]
  },
  {
   "cell_type": "code",
   "execution_count": 104,
   "metadata": {
    "slideshow": {
     "slide_type": "fragment"
    }
   },
   "outputs": [
    {
     "data": {
      "text/html": [
       "<div>\n",
       "<style scoped>\n",
       "    .dataframe tbody tr th:only-of-type {\n",
       "        vertical-align: middle;\n",
       "    }\n",
       "\n",
       "    .dataframe tbody tr th {\n",
       "        vertical-align: top;\n",
       "    }\n",
       "\n",
       "    .dataframe thead th {\n",
       "        text-align: right;\n",
       "    }\n",
       "</style>\n",
       "<table border=\"1\" class=\"dataframe\">\n",
       "  <thead>\n",
       "    <tr style=\"text-align: right;\">\n",
       "      <th></th>\n",
       "      <th>Player Name</th>\n",
       "      <th>Season</th>\n",
       "      <th>Statistic</th>\n",
       "      <th>Variable</th>\n",
       "      <th>Distance</th>\n",
       "    </tr>\n",
       "  </thead>\n",
       "  <tbody>\n",
       "    <tr>\n",
       "      <th>192</th>\n",
       "      <td>Robert Garrigus</td>\n",
       "      <td>2010</td>\n",
       "      <td>Driving Distance</td>\n",
       "      <td>Driving Distance - (AVG.)</td>\n",
       "      <td>315.5</td>\n",
       "    </tr>\n",
       "    <tr>\n",
       "      <th>193</th>\n",
       "      <td>Bubba Watson</td>\n",
       "      <td>2010</td>\n",
       "      <td>Driving Distance</td>\n",
       "      <td>Driving Distance - (AVG.)</td>\n",
       "      <td>309.8</td>\n",
       "    </tr>\n",
       "    <tr>\n",
       "      <th>194</th>\n",
       "      <td>Dustin Johnson</td>\n",
       "      <td>2010</td>\n",
       "      <td>Driving Distance</td>\n",
       "      <td>Driving Distance - (AVG.)</td>\n",
       "      <td>308.5</td>\n",
       "    </tr>\n",
       "    <tr>\n",
       "      <th>195</th>\n",
       "      <td>Brett Wetterich</td>\n",
       "      <td>2010</td>\n",
       "      <td>Driving Distance</td>\n",
       "      <td>Driving Distance - (AVG.)</td>\n",
       "      <td>307.3</td>\n",
       "    </tr>\n",
       "    <tr>\n",
       "      <th>196</th>\n",
       "      <td>J.B. Holmes</td>\n",
       "      <td>2010</td>\n",
       "      <td>Driving Distance</td>\n",
       "      <td>Driving Distance - (AVG.)</td>\n",
       "      <td>307.2</td>\n",
       "    </tr>\n",
       "  </tbody>\n",
       "</table>\n",
       "</div>"
      ],
      "text/plain": [
       "         Player Name  Season         Statistic                   Variable  \\\n",
       "192  Robert Garrigus    2010  Driving Distance  Driving Distance - (AVG.)   \n",
       "193     Bubba Watson    2010  Driving Distance  Driving Distance - (AVG.)   \n",
       "194   Dustin Johnson    2010  Driving Distance  Driving Distance - (AVG.)   \n",
       "195  Brett Wetterich    2010  Driving Distance  Driving Distance - (AVG.)   \n",
       "196      J.B. Holmes    2010  Driving Distance  Driving Distance - (AVG.)   \n",
       "\n",
       "    Distance  \n",
       "192    315.5  \n",
       "193    309.8  \n",
       "194    308.5  \n",
       "195    307.3  \n",
       "196    307.2  "
      ]
     },
     "execution_count": 104,
     "metadata": {},
     "output_type": "execute_result"
    }
   ],
   "source": [
    "dataframe[dataframe[\"Variable\"].isin([\"Driving Distance - (AVG.)\",\"Driving Distance - (TOTAL DRIVES)\"])].head()"
   ]
  },
  {
   "cell_type": "code",
   "execution_count": 20,
   "metadata": {
    "scrolled": true,
    "slideshow": {
     "slide_type": "fragment"
    }
   },
   "outputs": [
    {
     "data": {
      "text/plain": [
       "['Robert Garrigus',\n",
       " 'Bubba Watson',\n",
       " 'Dustin Johnson',\n",
       " 'Brett Wetterich',\n",
       " 'J.B. Holmes']"
      ]
     },
     "execution_count": 20,
     "metadata": {},
     "output_type": "execute_result"
    }
   ],
   "source": [
    "players = pd.DataFrame(dataframe[dataframe[\"Season\"].isin([\"2010\",\"2011\"])])\n",
    "players[\"Player Name\"].head().unique().tolist()"
   ]
  },
  {
   "cell_type": "markdown",
   "metadata": {
    "slideshow": {
     "slide_type": "slide"
    }
   },
   "source": [
    "**.query Function**\n",
    "\n",
    "Simular to the Where Clause in T-SQL"
   ]
  },
  {
   "cell_type": "code",
   "execution_count": 21,
   "metadata": {
    "slideshow": {
     "slide_type": "fragment"
    }
   },
   "outputs": [
    {
     "data": {
      "text/plain": [
       "['Robert Garrigus',\n",
       " 'J.B. Holmes',\n",
       " 'Bubba Watson',\n",
       " 'Dustin Johnson',\n",
       " 'Rory McIlroy',\n",
       " 'Trey Mullinax',\n",
       " 'Tom Lovelady',\n",
       " 'Tony Finau']"
      ]
     },
     "execution_count": 21,
     "metadata": {},
     "output_type": "execute_result"
    }
   ],
   "source": [
    "players = dataframe.query('Variable==\"Driving Distance - (AVG.)\"').query('Distance > \"315\"')\n",
    "players[\"Player Name\"].unique().tolist()"
   ]
  },
  {
   "cell_type": "code",
   "execution_count": 22,
   "metadata": {
    "slideshow": {
     "slide_type": "fragment"
    }
   },
   "outputs": [
    {
     "data": {
      "text/plain": [
       "['Robert Garrigus',\n",
       " 'J.B. Holmes',\n",
       " 'Bubba Watson',\n",
       " 'Dustin Johnson',\n",
       " 'Rory McIlroy',\n",
       " 'Trey Mullinax',\n",
       " 'Tom Lovelady',\n",
       " 'Tony Finau']"
      ]
     },
     "execution_count": 22,
     "metadata": {},
     "output_type": "execute_result"
    }
   ],
   "source": [
    "players = dataframe.query('Variable==\"Driving Distance - (AVG.)\" and Distance > \"315\"')\n",
    "players[\"Player Name\"].unique().tolist()"
   ]
  },
  {
   "cell_type": "markdown",
   "metadata": {
    "slideshow": {
     "slide_type": "slide"
    }
   },
   "source": [
    "## Altering/Manipulating Data ##\n",
    "\n",
    "**Changing Data**"
   ]
  },
  {
   "cell_type": "code",
   "execution_count": 54,
   "metadata": {
    "slideshow": {
     "slide_type": "fragment"
    }
   },
   "outputs": [
    {
     "data": {
      "text/plain": [
       "Player Name              Robert Garrigus\n",
       "Season                              2010\n",
       "Statistic               Driving Distance\n",
       "Variable       Driving Distance - (AVG.)\n",
       "Distance                           315.5\n",
       "Name: 192, dtype: object"
      ]
     },
     "execution_count": 54,
     "metadata": {},
     "output_type": "execute_result"
    }
   ],
   "source": [
    "players.loc[192,:]"
   ]
  },
  {
   "cell_type": "code",
   "execution_count": 107,
   "metadata": {
    "slideshow": {
     "slide_type": "fragment"
    }
   },
   "outputs": [],
   "source": [
    "players.loc[192,[\"Distance\"]] = 215.8"
   ]
  },
  {
   "cell_type": "code",
   "execution_count": 56,
   "metadata": {
    "slideshow": {
     "slide_type": "fragment"
    }
   },
   "outputs": [
    {
     "data": {
      "text/plain": [
       "Player Name              Robert Garrigus\n",
       "Season                              2010\n",
       "Statistic               Driving Distance\n",
       "Variable       Driving Distance - (AVG.)\n",
       "Distance                           215.8\n",
       "Name: 192, dtype: object"
      ]
     },
     "execution_count": 56,
     "metadata": {},
     "output_type": "execute_result"
    }
   ],
   "source": [
    "players.loc[192,:]"
   ]
  },
  {
   "cell_type": "markdown",
   "metadata": {
    "slideshow": {
     "slide_type": "slide"
    }
   },
   "source": [
    "### Adding a new column"
   ]
  },
  {
   "cell_type": "code",
   "execution_count": 23,
   "metadata": {
    "slideshow": {
     "slide_type": "fragment"
    }
   },
   "outputs": [
    {
     "data": {
      "text/html": [
       "<div>\n",
       "<style scoped>\n",
       "    .dataframe tbody tr th:only-of-type {\n",
       "        vertical-align: middle;\n",
       "    }\n",
       "\n",
       "    .dataframe tbody tr th {\n",
       "        vertical-align: top;\n",
       "    }\n",
       "\n",
       "    .dataframe thead th {\n",
       "        text-align: right;\n",
       "    }\n",
       "</style>\n",
       "<table border=\"1\" class=\"dataframe\">\n",
       "  <thead>\n",
       "    <tr style=\"text-align: right;\">\n",
       "      <th></th>\n",
       "      <th>Player Name</th>\n",
       "      <th>Season</th>\n",
       "      <th>Statistic</th>\n",
       "      <th>Variable</th>\n",
       "      <th>Distance</th>\n",
       "      <th>Draw</th>\n",
       "    </tr>\n",
       "  </thead>\n",
       "  <tbody>\n",
       "    <tr>\n",
       "      <th>192</th>\n",
       "      <td>Robert Garrigus</td>\n",
       "      <td>2010</td>\n",
       "      <td>Driving Distance</td>\n",
       "      <td>Driving Distance - (AVG.)</td>\n",
       "      <td>315.5</td>\n",
       "      <td>16</td>\n",
       "    </tr>\n",
       "    <tr>\n",
       "      <th>323269</th>\n",
       "      <td>J.B. Holmes</td>\n",
       "      <td>2011</td>\n",
       "      <td>Driving Distance</td>\n",
       "      <td>Driving Distance - (AVG.)</td>\n",
       "      <td>318.4</td>\n",
       "      <td>16</td>\n",
       "    </tr>\n",
       "    <tr>\n",
       "      <th>628386</th>\n",
       "      <td>Bubba Watson</td>\n",
       "      <td>2012</td>\n",
       "      <td>Driving Distance</td>\n",
       "      <td>Driving Distance - (AVG.)</td>\n",
       "      <td>315.5</td>\n",
       "      <td>16</td>\n",
       "    </tr>\n",
       "    <tr>\n",
       "      <th>1524473</th>\n",
       "      <td>Dustin Johnson</td>\n",
       "      <td>2015</td>\n",
       "      <td>Driving Distance</td>\n",
       "      <td>Driving Distance - (AVG.)</td>\n",
       "      <td>317.7</td>\n",
       "      <td>16</td>\n",
       "    </tr>\n",
       "    <tr>\n",
       "      <th>1524474</th>\n",
       "      <td>Bubba Watson</td>\n",
       "      <td>2015</td>\n",
       "      <td>Driving Distance</td>\n",
       "      <td>Driving Distance - (AVG.)</td>\n",
       "      <td>315.2</td>\n",
       "      <td>16</td>\n",
       "    </tr>\n",
       "  </tbody>\n",
       "</table>\n",
       "</div>"
      ],
      "text/plain": [
       "             Player Name  Season         Statistic                   Variable  \\\n",
       "192      Robert Garrigus    2010  Driving Distance  Driving Distance - (AVG.)   \n",
       "323269       J.B. Holmes    2011  Driving Distance  Driving Distance - (AVG.)   \n",
       "628386      Bubba Watson    2012  Driving Distance  Driving Distance - (AVG.)   \n",
       "1524473   Dustin Johnson    2015  Driving Distance  Driving Distance - (AVG.)   \n",
       "1524474     Bubba Watson    2015  Driving Distance  Driving Distance - (AVG.)   \n",
       "\n",
       "        Distance  Draw  \n",
       "192        315.5    16  \n",
       "323269     318.4    16  \n",
       "628386     315.5    16  \n",
       "1524473    317.7    16  \n",
       "1524474    315.2    16  "
      ]
     },
     "execution_count": 23,
     "metadata": {},
     "output_type": "execute_result"
    }
   ],
   "source": [
    "from random import randint\n",
    "\n",
    "players[\"Draw\"] = randint(0, 18)\n",
    "players.head()"
   ]
  },
  {
   "cell_type": "markdown",
   "metadata": {
    "slideshow": {
     "slide_type": "slide"
    }
   },
   "source": [
    "## Aggregations ##"
   ]
  },
  {
   "cell_type": "code",
   "execution_count": 24,
   "metadata": {
    "slideshow": {
     "slide_type": "fragment"
    }
   },
   "outputs": [
    {
     "data": {
      "text/plain": [
       "Player Name\n",
       "Bubba Watson       315.5\n",
       "Dustin Johnson     317.7\n",
       "J.B. Holmes        318.4\n",
       "Robert Garrigus    315.5\n",
       "Rory McIlroy       319.7\n",
       "Tom Lovelady       315.9\n",
       "Tony Finau         315.1\n",
       "Trey Mullinax      318.3\n",
       "Name: Distance, dtype: object"
      ]
     },
     "execution_count": 24,
     "metadata": {},
     "output_type": "execute_result"
    }
   ],
   "source": [
    "players.groupby([\"Player Name\"])[\"Distance\"].max()"
   ]
  },
  {
   "cell_type": "markdown",
   "metadata": {
    "slideshow": {
     "slide_type": "slide"
    }
   },
   "source": [
    "## Pivot Tables ##\n",
    "\n",
    "**Filter dataset down to only the needed data**"
   ]
  },
  {
   "cell_type": "code",
   "execution_count": 130,
   "metadata": {
    "slideshow": {
     "slide_type": "fragment"
    }
   },
   "outputs": [
    {
     "data": {
      "text/plain": [
       "['Driving Distance',\n",
       " 'Driving Accuracy Percentage',\n",
       " 'Greens in Regulation Percentage',\n",
       " 'Putting Average',\n",
       " 'Par Breakers',\n",
       " 'Total Eagles',\n",
       " 'Total Birdies',\n",
       " 'Scoring Average (Actual)',\n",
       " 'Money Leaders',\n",
       " 'Sand Save Percentage',\n",
       " 'Par 3 Birdie or Better Leaders',\n",
       " 'Par 4 Birdie or Better Leaders']"
      ]
     },
     "execution_count": 130,
     "metadata": {},
     "output_type": "execute_result"
    }
   ],
   "source": [
    "dataframe[\"Statistic\"].head().unique().tolist()"
   ]
  },
  {
   "cell_type": "code",
   "execution_count": 66,
   "metadata": {
    "scrolled": true,
    "slideshow": {
     "slide_type": "fragment"
    }
   },
   "outputs": [
    {
     "data": {
      "text/plain": [
       "['Driving Distance - (ROUNDS)',\n",
       " 'Driving Distance - (AVG.)',\n",
       " 'Driving Distance - (TOTAL DISTANCE)',\n",
       " 'Driving Distance - (TOTAL DRIVES)']"
      ]
     },
     "execution_count": 66,
     "metadata": {},
     "output_type": "execute_result"
    }
   ],
   "source": [
    "dataframe[dataframe[\"Statistic\"] == \"Driving Distance\"].Variable.unique().tolist()"
   ]
  },
  {
   "cell_type": "markdown",
   "metadata": {
    "slideshow": {
     "slide_type": "slide"
    }
   },
   "source": [
    "## Create filtered Dataframe ##"
   ]
  },
  {
   "cell_type": "code",
   "execution_count": 25,
   "metadata": {
    "scrolled": false,
    "slideshow": {
     "slide_type": "fragment"
    }
   },
   "outputs": [
    {
     "data": {
      "text/html": [
       "<div>\n",
       "<style scoped>\n",
       "    .dataframe tbody tr th:only-of-type {\n",
       "        vertical-align: middle;\n",
       "    }\n",
       "\n",
       "    .dataframe tbody tr th {\n",
       "        vertical-align: top;\n",
       "    }\n",
       "\n",
       "    .dataframe thead th {\n",
       "        text-align: right;\n",
       "    }\n",
       "</style>\n",
       "<table border=\"1\" class=\"dataframe\">\n",
       "  <thead>\n",
       "    <tr style=\"text-align: right;\">\n",
       "      <th></th>\n",
       "      <th>Player Name</th>\n",
       "      <th>Season</th>\n",
       "      <th>Statistic</th>\n",
       "      <th>Variable</th>\n",
       "      <th>Distance</th>\n",
       "    </tr>\n",
       "  </thead>\n",
       "  <tbody>\n",
       "    <tr>\n",
       "      <th>0</th>\n",
       "      <td>Robert Garrigus</td>\n",
       "      <td>2010</td>\n",
       "      <td>Driving Distance</td>\n",
       "      <td>Driving Distance - (ROUNDS)</td>\n",
       "      <td>71</td>\n",
       "    </tr>\n",
       "    <tr>\n",
       "      <th>1</th>\n",
       "      <td>Bubba Watson</td>\n",
       "      <td>2010</td>\n",
       "      <td>Driving Distance</td>\n",
       "      <td>Driving Distance - (ROUNDS)</td>\n",
       "      <td>77</td>\n",
       "    </tr>\n",
       "    <tr>\n",
       "      <th>2</th>\n",
       "      <td>Dustin Johnson</td>\n",
       "      <td>2010</td>\n",
       "      <td>Driving Distance</td>\n",
       "      <td>Driving Distance - (ROUNDS)</td>\n",
       "      <td>83</td>\n",
       "    </tr>\n",
       "    <tr>\n",
       "      <th>3</th>\n",
       "      <td>Brett Wetterich</td>\n",
       "      <td>2010</td>\n",
       "      <td>Driving Distance</td>\n",
       "      <td>Driving Distance - (ROUNDS)</td>\n",
       "      <td>54</td>\n",
       "    </tr>\n",
       "    <tr>\n",
       "      <th>4</th>\n",
       "      <td>J.B. Holmes</td>\n",
       "      <td>2010</td>\n",
       "      <td>Driving Distance</td>\n",
       "      <td>Driving Distance - (ROUNDS)</td>\n",
       "      <td>100</td>\n",
       "    </tr>\n",
       "  </tbody>\n",
       "</table>\n",
       "</div>"
      ],
      "text/plain": [
       "       Player Name  Season         Statistic                     Variable  \\\n",
       "0  Robert Garrigus    2010  Driving Distance  Driving Distance - (ROUNDS)   \n",
       "1     Bubba Watson    2010  Driving Distance  Driving Distance - (ROUNDS)   \n",
       "2   Dustin Johnson    2010  Driving Distance  Driving Distance - (ROUNDS)   \n",
       "3  Brett Wetterich    2010  Driving Distance  Driving Distance - (ROUNDS)   \n",
       "4      J.B. Holmes    2010  Driving Distance  Driving Distance - (ROUNDS)   \n",
       "\n",
       "  Distance  \n",
       "0       71  \n",
       "1       77  \n",
       "2       83  \n",
       "3       54  \n",
       "4      100  "
      ]
     },
     "execution_count": 25,
     "metadata": {},
     "output_type": "execute_result"
    }
   ],
   "source": [
    "driving_dist = dataframe[dataframe[\"Statistic\"] == \"Driving Distance\"]\n",
    "driving_dist.head()"
   ]
  },
  {
   "cell_type": "markdown",
   "metadata": {
    "slideshow": {
     "slide_type": "fragment"
    }
   },
   "source": [
    "**Drop columns that nolonger add value**"
   ]
  },
  {
   "cell_type": "code",
   "execution_count": 26,
   "metadata": {
    "slideshow": {
     "slide_type": "fragment"
    }
   },
   "outputs": [],
   "source": [
    "driving_dist.drop([\"Statistic\"], axis = 1, inplace=True)"
   ]
  },
  {
   "cell_type": "markdown",
   "metadata": {
    "slideshow": {
     "slide_type": "slide"
    }
   },
   "source": [
    "## Rename Columns "
   ]
  },
  {
   "cell_type": "code",
   "execution_count": 27,
   "metadata": {
    "slideshow": {
     "slide_type": "fragment"
    }
   },
   "outputs": [],
   "source": [
    "column_names = {\"Player Name\":\"PlayerName\",\"Season\":\"Season_YY\",\"Variable\":\"Variable\",\"Distance\":\"Distance\"}\n",
    "driving_dist.rename(columns=column_names, inplace=True)"
   ]
  },
  {
   "cell_type": "markdown",
   "metadata": {
    "slideshow": {
     "slide_type": "slide"
    }
   },
   "source": [
    "## Fix data type for Distance "
   ]
  },
  {
   "cell_type": "code",
   "execution_count": 113,
   "metadata": {
    "slideshow": {
     "slide_type": "fragment"
    }
   },
   "outputs": [
    {
     "data": {
      "text/plain": [
       "PlayerName    object\n",
       "Season_YY      int64\n",
       "Variable      object\n",
       "Distance      object\n",
       "dtype: object"
      ]
     },
     "execution_count": 113,
     "metadata": {},
     "output_type": "execute_result"
    }
   ],
   "source": [
    "driving_dist.dtypes"
   ]
  },
  {
   "cell_type": "code",
   "execution_count": 114,
   "metadata": {
    "slideshow": {
     "slide_type": "fragment"
    }
   },
   "outputs": [
    {
     "data": {
      "text/plain": [
       "PlayerName                        Robert Garrigus\n",
       "Season_YY                                    2010\n",
       "Variable      Driving Distance - (TOTAL DISTANCE)\n",
       "Distance                                   41,009\n",
       "Name: 384, dtype: object"
      ]
     },
     "execution_count": 114,
     "metadata": {},
     "output_type": "execute_result"
    }
   ],
   "source": [
    "driving_dist.loc[384,:]"
   ]
  },
  {
   "cell_type": "markdown",
   "metadata": {
    "slideshow": {
     "slide_type": "slide"
    }
   },
   "source": [
    "## Fix data type for Distance "
   ]
  },
  {
   "cell_type": "code",
   "execution_count": 28,
   "metadata": {
    "slideshow": {
     "slide_type": "fragment"
    }
   },
   "outputs": [
    {
     "data": {
      "text/html": [
       "<div>\n",
       "<style scoped>\n",
       "    .dataframe tbody tr th:only-of-type {\n",
       "        vertical-align: middle;\n",
       "    }\n",
       "\n",
       "    .dataframe tbody tr th {\n",
       "        vertical-align: top;\n",
       "    }\n",
       "\n",
       "    .dataframe thead th {\n",
       "        text-align: right;\n",
       "    }\n",
       "</style>\n",
       "<table border=\"1\" class=\"dataframe\">\n",
       "  <thead>\n",
       "    <tr style=\"text-align: right;\">\n",
       "      <th></th>\n",
       "      <th>PlayerName</th>\n",
       "      <th>Season_YY</th>\n",
       "      <th>Variable</th>\n",
       "      <th>Distance</th>\n",
       "    </tr>\n",
       "  </thead>\n",
       "  <tbody>\n",
       "    <tr>\n",
       "      <th>384</th>\n",
       "      <td>Robert Garrigus</td>\n",
       "      <td>2010</td>\n",
       "      <td>Driving Distance - (TOTAL DISTANCE)</td>\n",
       "      <td>41.009</td>\n",
       "    </tr>\n",
       "    <tr>\n",
       "      <th>385</th>\n",
       "      <td>Bubba Watson</td>\n",
       "      <td>2010</td>\n",
       "      <td>Driving Distance - (TOTAL DISTANCE)</td>\n",
       "      <td>47.703</td>\n",
       "    </tr>\n",
       "    <tr>\n",
       "      <th>386</th>\n",
       "      <td>Dustin Johnson</td>\n",
       "      <td>2010</td>\n",
       "      <td>Driving Distance - (TOTAL DISTANCE)</td>\n",
       "      <td>50.588</td>\n",
       "    </tr>\n",
       "    <tr>\n",
       "      <th>387</th>\n",
       "      <td>Brett Wetterich</td>\n",
       "      <td>2010</td>\n",
       "      <td>Driving Distance - (TOTAL DISTANCE)</td>\n",
       "      <td>33.187</td>\n",
       "    </tr>\n",
       "    <tr>\n",
       "      <th>388</th>\n",
       "      <td>J.B. Holmes</td>\n",
       "      <td>2010</td>\n",
       "      <td>Driving Distance - (TOTAL DISTANCE)</td>\n",
       "      <td>61.437</td>\n",
       "    </tr>\n",
       "  </tbody>\n",
       "</table>\n",
       "</div>"
      ],
      "text/plain": [
       "          PlayerName  Season_YY                             Variable Distance\n",
       "384  Robert Garrigus       2010  Driving Distance - (TOTAL DISTANCE)   41.009\n",
       "385     Bubba Watson       2010  Driving Distance - (TOTAL DISTANCE)   47.703\n",
       "386   Dustin Johnson       2010  Driving Distance - (TOTAL DISTANCE)   50.588\n",
       "387  Brett Wetterich       2010  Driving Distance - (TOTAL DISTANCE)   33.187\n",
       "388      J.B. Holmes       2010  Driving Distance - (TOTAL DISTANCE)   61.437"
      ]
     },
     "execution_count": 28,
     "metadata": {},
     "output_type": "execute_result"
    }
   ],
   "source": [
    "driving_dist['Distance'] = [x.replace(',', '.') for x in driving_dist['Distance']]\n",
    "driving_dist[driving_dist[\"Variable\"]==\"Driving Distance - (TOTAL DISTANCE)\"].head()"
   ]
  },
  {
   "cell_type": "code",
   "execution_count": 29,
   "metadata": {
    "slideshow": {
     "slide_type": "fragment"
    }
   },
   "outputs": [
    {
     "data": {
      "text/plain": [
       "PlayerName     object\n",
       "Season_YY       int64\n",
       "Variable       object\n",
       "Distance      float64\n",
       "dtype: object"
      ]
     },
     "execution_count": 29,
     "metadata": {},
     "output_type": "execute_result"
    }
   ],
   "source": [
    "driving_dist[[\"Distance\"]] = driving_dist[[\"Distance\"]].apply(pd.to_numeric)\n",
    "driving_dist.dtypes"
   ]
  },
  {
   "cell_type": "markdown",
   "metadata": {
    "slideshow": {
     "slide_type": "slide"
    }
   },
   "source": [
    "## Build Single Index Pivot Table\n",
    "\n",
    "Create new dataframe with only data for 2018 Driving Distances"
   ]
  },
  {
   "cell_type": "code",
   "execution_count": 30,
   "metadata": {
    "slideshow": {
     "slide_type": "fragment"
    }
   },
   "outputs": [],
   "source": [
    "driving_dist_2018 = driving_dist[driving_dist[\"Season_YY\"] == 2018]"
   ]
  },
  {
   "cell_type": "markdown",
   "metadata": {
    "slideshow": {
     "slide_type": "fragment"
    }
   },
   "source": [
    "Drop Columns that we no longer need"
   ]
  },
  {
   "cell_type": "code",
   "execution_count": 31,
   "metadata": {
    "slideshow": {
     "slide_type": "fragment"
    }
   },
   "outputs": [],
   "source": [
    "driving_dist_2018.drop([\"Season_YY\"], axis = 1, inplace=True)"
   ]
  },
  {
   "cell_type": "markdown",
   "metadata": {
    "slideshow": {
     "slide_type": "slide"
    }
   },
   "source": [
    "## Create the Pivot"
   ]
  },
  {
   "cell_type": "code",
   "execution_count": 32,
   "metadata": {
    "scrolled": true,
    "slideshow": {
     "slide_type": "fragment"
    }
   },
   "outputs": [
    {
     "data": {
      "text/html": [
       "<div>\n",
       "<style scoped>\n",
       "    .dataframe tbody tr th:only-of-type {\n",
       "        vertical-align: middle;\n",
       "    }\n",
       "\n",
       "    .dataframe tbody tr th {\n",
       "        vertical-align: top;\n",
       "    }\n",
       "\n",
       "    .dataframe thead th {\n",
       "        text-align: right;\n",
       "    }\n",
       "</style>\n",
       "<table border=\"1\" class=\"dataframe\">\n",
       "  <thead>\n",
       "    <tr style=\"text-align: right;\">\n",
       "      <th>Variable</th>\n",
       "      <th>Driving Distance - (AVG.)</th>\n",
       "      <th>Driving Distance - (ROUNDS)</th>\n",
       "      <th>Driving Distance - (TOTAL DISTANCE)</th>\n",
       "      <th>Driving Distance - (TOTAL DRIVES)</th>\n",
       "    </tr>\n",
       "    <tr>\n",
       "      <th>PlayerName</th>\n",
       "      <th></th>\n",
       "      <th></th>\n",
       "      <th></th>\n",
       "      <th></th>\n",
       "    </tr>\n",
       "  </thead>\n",
       "  <tbody>\n",
       "    <tr>\n",
       "      <th>Aaron Baddeley</th>\n",
       "      <td>295.3</td>\n",
       "      <td>84.0</td>\n",
       "      <td>46.068</td>\n",
       "      <td>156.0</td>\n",
       "    </tr>\n",
       "    <tr>\n",
       "      <th>Aaron Wise</th>\n",
       "      <td>302.9</td>\n",
       "      <td>90.0</td>\n",
       "      <td>53.314</td>\n",
       "      <td>176.0</td>\n",
       "    </tr>\n",
       "    <tr>\n",
       "      <th>Abraham Ancer</th>\n",
       "      <td>296.1</td>\n",
       "      <td>98.0</td>\n",
       "      <td>56.850</td>\n",
       "      <td>192.0</td>\n",
       "    </tr>\n",
       "    <tr>\n",
       "      <th>Adam Hadwin</th>\n",
       "      <td>289.4</td>\n",
       "      <td>92.0</td>\n",
       "      <td>44.574</td>\n",
       "      <td>154.0</td>\n",
       "    </tr>\n",
       "    <tr>\n",
       "      <th>Adam Schenk</th>\n",
       "      <td>305.5</td>\n",
       "      <td>86.0</td>\n",
       "      <td>48.881</td>\n",
       "      <td>160.0</td>\n",
       "    </tr>\n",
       "    <tr>\n",
       "      <th>Adam Scott</th>\n",
       "      <td>304.6</td>\n",
       "      <td>78.0</td>\n",
       "      <td>42.649</td>\n",
       "      <td>140.0</td>\n",
       "    </tr>\n",
       "    <tr>\n",
       "      <th>Alex Cejka</th>\n",
       "      <td>286.7</td>\n",
       "      <td>77.0</td>\n",
       "      <td>39.567</td>\n",
       "      <td>138.0</td>\n",
       "    </tr>\n",
       "    <tr>\n",
       "      <th>Alex Noren</th>\n",
       "      <td>299.2</td>\n",
       "      <td>67.0</td>\n",
       "      <td>33.506</td>\n",
       "      <td>112.0</td>\n",
       "    </tr>\n",
       "    <tr>\n",
       "      <th>Andrew Landry</th>\n",
       "      <td>291.1</td>\n",
       "      <td>82.0</td>\n",
       "      <td>46.569</td>\n",
       "      <td>160.0</td>\n",
       "    </tr>\n",
       "    <tr>\n",
       "      <th>Andrew Putnam</th>\n",
       "      <td>293.8</td>\n",
       "      <td>97.0</td>\n",
       "      <td>52.295</td>\n",
       "      <td>178.0</td>\n",
       "    </tr>\n",
       "  </tbody>\n",
       "</table>\n",
       "</div>"
      ],
      "text/plain": [
       "Variable        Driving Distance - (AVG.)  Driving Distance - (ROUNDS)  \\\n",
       "PlayerName                                                               \n",
       "Aaron Baddeley                      295.3                         84.0   \n",
       "Aaron Wise                          302.9                         90.0   \n",
       "Abraham Ancer                       296.1                         98.0   \n",
       "Adam Hadwin                         289.4                         92.0   \n",
       "Adam Schenk                         305.5                         86.0   \n",
       "Adam Scott                          304.6                         78.0   \n",
       "Alex Cejka                          286.7                         77.0   \n",
       "Alex Noren                          299.2                         67.0   \n",
       "Andrew Landry                       291.1                         82.0   \n",
       "Andrew Putnam                       293.8                         97.0   \n",
       "\n",
       "Variable        Driving Distance - (TOTAL DISTANCE)  \\\n",
       "PlayerName                                            \n",
       "Aaron Baddeley                               46.068   \n",
       "Aaron Wise                                   53.314   \n",
       "Abraham Ancer                                56.850   \n",
       "Adam Hadwin                                  44.574   \n",
       "Adam Schenk                                  48.881   \n",
       "Adam Scott                                   42.649   \n",
       "Alex Cejka                                   39.567   \n",
       "Alex Noren                                   33.506   \n",
       "Andrew Landry                                46.569   \n",
       "Andrew Putnam                                52.295   \n",
       "\n",
       "Variable        Driving Distance - (TOTAL DRIVES)  \n",
       "PlayerName                                         \n",
       "Aaron Baddeley                              156.0  \n",
       "Aaron Wise                                  176.0  \n",
       "Abraham Ancer                               192.0  \n",
       "Adam Hadwin                                 154.0  \n",
       "Adam Schenk                                 160.0  \n",
       "Adam Scott                                  140.0  \n",
       "Alex Cejka                                  138.0  \n",
       "Alex Noren                                  112.0  \n",
       "Andrew Landry                               160.0  \n",
       "Andrew Putnam                               178.0  "
      ]
     },
     "execution_count": 32,
     "metadata": {},
     "output_type": "execute_result"
    }
   ],
   "source": [
    "driving_dist_2018.pivot(index=\"PlayerName\", columns=\"Variable\",values=\"Distance\").head(10)"
   ]
  },
  {
   "cell_type": "markdown",
   "metadata": {
    "slideshow": {
     "slide_type": "slide"
    }
   },
   "source": [
    "## Multi Index Pivot"
   ]
  },
  {
   "cell_type": "code",
   "execution_count": 33,
   "metadata": {
    "scrolled": true,
    "slideshow": {
     "slide_type": "fragment"
    }
   },
   "outputs": [
    {
     "data": {
      "text/html": [
       "<div>\n",
       "<style scoped>\n",
       "    .dataframe tbody tr th:only-of-type {\n",
       "        vertical-align: middle;\n",
       "    }\n",
       "\n",
       "    .dataframe tbody tr th {\n",
       "        vertical-align: top;\n",
       "    }\n",
       "\n",
       "    .dataframe thead th {\n",
       "        text-align: right;\n",
       "    }\n",
       "</style>\n",
       "<table border=\"1\" class=\"dataframe\">\n",
       "  <thead>\n",
       "    <tr style=\"text-align: right;\">\n",
       "      <th></th>\n",
       "      <th>PlayerName</th>\n",
       "      <th>Season_YY</th>\n",
       "      <th>Driving Distance - (AVG.)</th>\n",
       "      <th>Driving Distance - (ROUNDS)</th>\n",
       "      <th>Driving Distance - (TOTAL DISTANCE)</th>\n",
       "      <th>Driving Distance - (TOTAL DRIVES)</th>\n",
       "    </tr>\n",
       "  </thead>\n",
       "  <tbody>\n",
       "    <tr>\n",
       "      <th>0</th>\n",
       "      <td>Aaron Baddeley</td>\n",
       "      <td>2010</td>\n",
       "      <td>298.9</td>\n",
       "      <td>94.0</td>\n",
       "      <td>56.202</td>\n",
       "      <td>188.0</td>\n",
       "    </tr>\n",
       "    <tr>\n",
       "      <th>1</th>\n",
       "      <td>Aaron Baddeley</td>\n",
       "      <td>2011</td>\n",
       "      <td>296.2</td>\n",
       "      <td>77.0</td>\n",
       "      <td>44.430</td>\n",
       "      <td>150.0</td>\n",
       "    </tr>\n",
       "    <tr>\n",
       "      <th>2</th>\n",
       "      <td>Aaron Baddeley</td>\n",
       "      <td>2012</td>\n",
       "      <td>292.0</td>\n",
       "      <td>73.0</td>\n",
       "      <td>42.048</td>\n",
       "      <td>144.0</td>\n",
       "    </tr>\n",
       "    <tr>\n",
       "      <th>3</th>\n",
       "      <td>Aaron Baddeley</td>\n",
       "      <td>2013</td>\n",
       "      <td>288.5</td>\n",
       "      <td>68.0</td>\n",
       "      <td>38.086</td>\n",
       "      <td>132.0</td>\n",
       "    </tr>\n",
       "    <tr>\n",
       "      <th>4</th>\n",
       "      <td>Aaron Baddeley</td>\n",
       "      <td>2014</td>\n",
       "      <td>293.8</td>\n",
       "      <td>74.0</td>\n",
       "      <td>39.950</td>\n",
       "      <td>136.0</td>\n",
       "    </tr>\n",
       "    <tr>\n",
       "      <th>5</th>\n",
       "      <td>Aaron Baddeley</td>\n",
       "      <td>2015</td>\n",
       "      <td>294.1</td>\n",
       "      <td>76.0</td>\n",
       "      <td>42.941</td>\n",
       "      <td>146.0</td>\n",
       "    </tr>\n",
       "    <tr>\n",
       "      <th>6</th>\n",
       "      <td>Aaron Baddeley</td>\n",
       "      <td>2016</td>\n",
       "      <td>291.7</td>\n",
       "      <td>93.0</td>\n",
       "      <td>51.925</td>\n",
       "      <td>178.0</td>\n",
       "    </tr>\n",
       "    <tr>\n",
       "      <th>7</th>\n",
       "      <td>Aaron Baddeley</td>\n",
       "      <td>2017</td>\n",
       "      <td>292.6</td>\n",
       "      <td>61.0</td>\n",
       "      <td>31.014</td>\n",
       "      <td>106.0</td>\n",
       "    </tr>\n",
       "    <tr>\n",
       "      <th>8</th>\n",
       "      <td>Aaron Baddeley</td>\n",
       "      <td>2018</td>\n",
       "      <td>295.3</td>\n",
       "      <td>84.0</td>\n",
       "      <td>46.068</td>\n",
       "      <td>156.0</td>\n",
       "    </tr>\n",
       "    <tr>\n",
       "      <th>9</th>\n",
       "      <td>Aaron Watkins</td>\n",
       "      <td>2013</td>\n",
       "      <td>277.1</td>\n",
       "      <td>46.0</td>\n",
       "      <td>24.388</td>\n",
       "      <td>88.0</td>\n",
       "    </tr>\n",
       "  </tbody>\n",
       "</table>\n",
       "</div>"
      ],
      "text/plain": [
       "       PlayerName  Season_YY  Driving Distance - (AVG.)  \\\n",
       "0  Aaron Baddeley       2010                      298.9   \n",
       "1  Aaron Baddeley       2011                      296.2   \n",
       "2  Aaron Baddeley       2012                      292.0   \n",
       "3  Aaron Baddeley       2013                      288.5   \n",
       "4  Aaron Baddeley       2014                      293.8   \n",
       "5  Aaron Baddeley       2015                      294.1   \n",
       "6  Aaron Baddeley       2016                      291.7   \n",
       "7  Aaron Baddeley       2017                      292.6   \n",
       "8  Aaron Baddeley       2018                      295.3   \n",
       "9   Aaron Watkins       2013                      277.1   \n",
       "\n",
       "   Driving Distance - (ROUNDS)  Driving Distance - (TOTAL DISTANCE)  \\\n",
       "0                         94.0                               56.202   \n",
       "1                         77.0                               44.430   \n",
       "2                         73.0                               42.048   \n",
       "3                         68.0                               38.086   \n",
       "4                         74.0                               39.950   \n",
       "5                         76.0                               42.941   \n",
       "6                         93.0                               51.925   \n",
       "7                         61.0                               31.014   \n",
       "8                         84.0                               46.068   \n",
       "9                         46.0                               24.388   \n",
       "\n",
       "   Driving Distance - (TOTAL DRIVES)  \n",
       "0                              188.0  \n",
       "1                              150.0  \n",
       "2                              144.0  \n",
       "3                              132.0  \n",
       "4                              136.0  \n",
       "5                              146.0  \n",
       "6                              178.0  \n",
       "7                              106.0  \n",
       "8                              156.0  \n",
       "9                               88.0  "
      ]
     },
     "execution_count": 33,
     "metadata": {},
     "output_type": "execute_result"
    }
   ],
   "source": [
    "driving_dist_pvt = driving_dist.set_index([\"PlayerName\",\"Season_YY\"]).pivot(columns=\"Variable\")['Distance'].reset_index().rename_axis(None, axis=1)\n",
    "driving_dist_pvt.head(10)"
   ]
  },
  {
   "cell_type": "markdown",
   "metadata": {
    "slideshow": {
     "slide_type": "slide"
    }
   },
   "source": [
    "## Pretty Graphs"
   ]
  },
  {
   "cell_type": "code",
   "execution_count": 34,
   "metadata": {
    "scrolled": true,
    "slideshow": {
     "slide_type": "fragment"
    }
   },
   "outputs": [
    {
     "data": {
      "text/plain": [
       "<matplotlib.axes._subplots.AxesSubplot at 0x7f67028de7f0>"
      ]
     },
     "execution_count": 34,
     "metadata": {},
     "output_type": "execute_result"
    },
    {
     "data": {
      "image/png": "[encoded data removed]",
      "text/plain": [
       "<Figure size 432x288 with 1 Axes>"
      ]
     },
     "metadata": {
      "needs_background": "light"
     },
     "output_type": "display_data"
    }
   ],
   "source": [
    "driving_dist_pvt[[\"Driving Distance - (AVG.)\"]].plot(kind = \"hist\")"
   ]
  },
  {
   "cell_type": "code",
   "execution_count": 35,
   "metadata": {
    "slideshow": {
     "slide_type": "slide"
    }
   },
   "outputs": [
    {
     "data": {
      "text/plain": [
       "<matplotlib.axes._subplots.AxesSubplot at 0x7f67027e3898>"
      ]
     },
     "execution_count": 35,
     "metadata": {},
     "output_type": "execute_result"
    },
    {
     "data": {
      "image/png": "[encoded data removed]",
      "text/plain": [
       "<Figure size 432x288 with 1 Axes>"
      ]
     },
     "metadata": {
      "needs_background": "light"
     },
     "output_type": "display_data"
    }
   ],
   "source": [
    "Rory = driving_dist_pvt[driving_dist_pvt[\"PlayerName\"] == \"Rory McIlroy\"]\n",
    "ax = Rory[[\"Driving Distance - (AVG.)\",\"Season_YY\"]].plot(kind = \"line\",title = \"AVG Distance\", x= \"Season_YY\")\n",
    "ax"
   ]
  },
  {
   "cell_type": "code",
   "execution_count": 36,
   "metadata": {
    "scrolled": false,
    "slideshow": {
     "slide_type": "slide"
    }
   },
   "outputs": [
    {
     "data": {
      "image/png": "[encoded data removed]",
      "text/plain": [
       "<Figure size 1440x432 with 4 Axes>"
      ]
     },
     "metadata": {
      "needs_background": "light"
     },
     "output_type": "display_data"
    },
    {
     "data": {
      "text/html": [
       "<div>\n",
       "<style scoped>\n",
       "    .dataframe tbody tr th:only-of-type {\n",
       "        vertical-align: middle;\n",
       "    }\n",
       "\n",
       "    .dataframe tbody tr th {\n",
       "        vertical-align: top;\n",
       "    }\n",
       "\n",
       "    .dataframe thead th {\n",
       "        text-align: right;\n",
       "    }\n",
       "</style>\n",
       "<table border=\"1\" class=\"dataframe\">\n",
       "  <thead>\n",
       "    <tr style=\"text-align: right;\">\n",
       "      <th></th>\n",
       "      <th>Driving Distance - (AVG.)</th>\n",
       "      <th>Driving Distance - (ROUNDS)</th>\n",
       "      <th>Driving Distance - (TOTAL DISTANCE)</th>\n",
       "      <th>Driving Distance - (TOTAL DRIVES)</th>\n",
       "    </tr>\n",
       "  </thead>\n",
       "  <tbody>\n",
       "    <tr>\n",
       "      <th>count</th>\n",
       "      <td>7.000000</td>\n",
       "      <td>7.000000</td>\n",
       "      <td>7.000000</td>\n",
       "      <td>7.000000</td>\n",
       "    </tr>\n",
       "    <tr>\n",
       "      <th>mean</th>\n",
       "      <td>309.428571</td>\n",
       "      <td>60.000000</td>\n",
       "      <td>33.679286</td>\n",
       "      <td>108.857143</td>\n",
       "    </tr>\n",
       "    <tr>\n",
       "      <th>std</th>\n",
       "      <td>7.165127</td>\n",
       "      <td>6.658328</td>\n",
       "      <td>4.120675</td>\n",
       "      <td>12.902565</td>\n",
       "    </tr>\n",
       "    <tr>\n",
       "      <th>min</th>\n",
       "      <td>300.000000</td>\n",
       "      <td>51.000000</td>\n",
       "      <td>26.600000</td>\n",
       "      <td>84.000000</td>\n",
       "    </tr>\n",
       "    <tr>\n",
       "      <th>25%</th>\n",
       "      <td>304.500000</td>\n",
       "      <td>55.000000</td>\n",
       "      <td>32.034500</td>\n",
       "      <td>105.000000</td>\n",
       "    </tr>\n",
       "    <tr>\n",
       "      <th>50%</th>\n",
       "      <td>310.100000</td>\n",
       "      <td>60.000000</td>\n",
       "      <td>33.240000</td>\n",
       "      <td>110.000000</td>\n",
       "    </tr>\n",
       "    <tr>\n",
       "      <th>75%</th>\n",
       "      <td>313.600000</td>\n",
       "      <td>65.000000</td>\n",
       "      <td>36.423000</td>\n",
       "      <td>118.000000</td>\n",
       "    </tr>\n",
       "    <tr>\n",
       "      <th>max</th>\n",
       "      <td>319.700000</td>\n",
       "      <td>69.000000</td>\n",
       "      <td>39.000000</td>\n",
       "      <td>122.000000</td>\n",
       "    </tr>\n",
       "  </tbody>\n",
       "</table>\n",
       "</div>"
      ],
      "text/plain": [
       "       Driving Distance - (AVG.)  Driving Distance - (ROUNDS)  \\\n",
       "count                   7.000000                     7.000000   \n",
       "mean                  309.428571                    60.000000   \n",
       "std                     7.165127                     6.658328   \n",
       "min                   300.000000                    51.000000   \n",
       "25%                   304.500000                    55.000000   \n",
       "50%                   310.100000                    60.000000   \n",
       "75%                   313.600000                    65.000000   \n",
       "max                   319.700000                    69.000000   \n",
       "\n",
       "       Driving Distance - (TOTAL DISTANCE)  Driving Distance - (TOTAL DRIVES)  \n",
       "count                             7.000000                           7.000000  \n",
       "mean                             33.679286                         108.857143  \n",
       "std                               4.120675                          12.902565  \n",
       "min                              26.600000                          84.000000  \n",
       "25%                              32.034500                         105.000000  \n",
       "50%                              33.240000                         110.000000  \n",
       "75%                              36.423000                         118.000000  \n",
       "max                              39.000000                         122.000000  "
      ]
     },
     "execution_count": 36,
     "metadata": {},
     "output_type": "execute_result"
    }
   ],
   "source": [
    "plt.figure(1, figsize=(20,6))\n",
    "for i in range(2,6):\n",
    "    plt.subplot(1,5,i)\n",
    "    plt.boxplot(Rory[Rory.columns[i]])\n",
    "    plt.title(Rory.columns[i])\n",
    "plt.show()\n",
    "Rory.iloc[:,2:].describe()"
   ]
  },
  {
   "cell_type": "markdown",
   "metadata": {
    "slideshow": {
     "slide_type": "slide"
    }
   },
   "source": [
    "## Iterate Dataframe ##\n",
    "\n",
    "Try to avoid doing this as Pandas have functions for almost any data manipulation use case"
   ]
  },
  {
   "cell_type": "code",
   "execution_count": 123,
   "metadata": {
    "slideshow": {
     "slide_type": "fragment"
    }
   },
   "outputs": [
    {
     "name": "stdout",
     "output_type": "stream",
     "text": [
      "0\n",
      "1\n",
      "2\n",
      "3\n",
      "4\n"
     ]
    }
   ],
   "source": [
    "for x in range(5):\n",
    "    print(x)"
   ]
  },
  {
   "cell_type": "code",
   "execution_count": 37,
   "metadata": {
    "slideshow": {
     "slide_type": "fragment"
    }
   },
   "outputs": [
    {
     "name": "stdout",
     "output_type": "stream",
     "text": [
      "192 315.5\n",
      "323269 318.4\n",
      "628386 315.5\n",
      "1524473 317.7\n",
      "1524474 315.2\n",
      "2127385 316.7\n",
      "2433411 319.7\n",
      "2433412 318.3\n",
      "2433413 315.9\n",
      "2433414 315.1\n"
     ]
    }
   ],
   "source": [
    "for idx, row in players.iterrows():\n",
    "    print(idx, row.Distance)"
   ]
  },
  {
   "cell_type": "markdown",
   "metadata": {
    "slideshow": {
     "slide_type": "slide"
    }
   },
   "source": [
    "## Export Dataframe ##\n",
    "\n",
    "**To CSV**"
   ]
  },
  {
   "cell_type": "code",
   "execution_count": 38,
   "metadata": {
    "slideshow": {
     "slide_type": "fragment"
    }
   },
   "outputs": [],
   "source": [
    "players.to_csv(\"players.csv\")"
   ]
  },
  {
   "cell_type": "markdown",
   "metadata": {
    "slideshow": {
     "slide_type": "fragment"
    }
   },
   "source": [
    "<img src=\"images\\Players.png\" alt=\"Python\" width=\"600\"/> "
   ]
  },
  {
   "cell_type": "markdown",
   "metadata": {
    "slideshow": {
     "slide_type": "fragment"
    }
   },
   "source": [
    "**To SQL SERVER/Database)**"
   ]
  },
  {
   "cell_type": "code",
   "execution_count": null,
   "metadata": {
    "slideshow": {
     "slide_type": "fragment"
    }
   },
   "outputs": [],
   "source": [
    "import sqlalchemy as sa\n",
    "import pyodbc\n",
    "\n",
    "engine = sa.create_engine(\"mssql+pyodbc://SOMESERVER/MYDATABASE?driver=SQL+Server+Native+Client+11.0\")\n",
    "dataFrame.to_sql(\"players\", con=engine)"
   ]
  },
  {
   "cell_type": "markdown",
   "metadata": {
    "slideshow": {
     "slide_type": "slide"
    }
   },
   "source": [
    "<img src=\"images\\Questions.png\" alt=\"Python\" width=\"500\"/> "
   ]
  },
  {
   "attachments": {
    "image.png": {
     "image/png": "[encoded data removed]"
    }
   },
   "cell_type": "markdown",
   "metadata": {
    "slideshow": {
     "slide_type": "slide"
    }
   },
   "source": [
    "![image.png](attachment:image.png)"
   ]
  }
 ],
 "metadata": {
  "celltoolbar": "Slideshow",
  "kernelspec": {
   "display_name": "Python 3",
   "language": "python",
   "name": "python3"
  },
  "language_info": {
   "codemirror_mode": {
    "name": "ipython",
    "version": 3
   },
   "file_extension": ".py",
   "mimetype": "text/x-python",
   "name": "python",
   "nbconvert_exporter": "python",
   "pygments_lexer": "ipython3",
   "version": "3.6.7"
  },
  "rise": {
   "theme": "serif",
   "transition": "zoom"
  }
 },
 "nbformat": 4,
 "nbformat_minor": 2
}
